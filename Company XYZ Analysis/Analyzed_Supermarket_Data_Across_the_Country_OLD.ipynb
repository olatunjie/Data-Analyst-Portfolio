{
 "cells": [
  {
   "cell_type": "markdown",
   "metadata": {},
   "source": [
    "# Analyze Supermarket Data Across the Country - Company XYZ\n",
    "\n",
    "Company XYZ owns a supermarket chain across the country. Each major branch located in 3 cities across the country recorded sales information for 3 months, to help the company understand sales trends and determine its growth, as the rise of supermarkets competition is seen."
   ]
  },
  {
   "cell_type": "markdown",
   "metadata": {},
   "source": [
    "You will apply learnings to analyse the dataset in the data folder, and the description of each feature can be found in this\n",
    "[link](https:////docs.google.com/document/d/1Sv-DlynHpOBAs5qKokn5MtbzqZcumTSlSI4-wQ0kf0w/edit?usp=sharing)"
   ]
  },
  {
   "cell_type": "markdown",
   "metadata": {},
   "source": [
    "## Step 1 - Loading the Dataset\n",
    "In this step, you will combine the dataset from each branch (3 branches) into one dataset for easy analysis. You expected to write the syntaxes that will read multiple files from your current working directory and export a CSV file after combining. \n",
    "The learning from this step is the ability to automate reading and combining multiple CSV files, because as a Data Professional, you will saddled with the responsibility of reading data from different sources, and this is one of the use case."
   ]
  },
  {
   "cell_type": "markdown",
   "metadata": {},
   "source": [
    "#### To-Do - Import Libraries"
   ]
  },
  {
   "cell_type": "code",
   "execution_count": 1,
   "metadata": {},
   "outputs": [],
   "source": [
    "import os\n",
    "import glob\n",
    "import pandas as pd\n",
    "os.chdir(r\"C:\Projects\ML Projects\Company XYZ Analysis") #Current working directory that contains your dataset and code file"
   ]
  },
  {
   "cell_type": "markdown",
   "metadata": {},
   "source": [
    "#### To-Do - Use glob to match the pattern \"csv\""
   ]
  },
  {
   "cell_type": "code",
   "execution_count": 2,
   "metadata": {},
   "outputs": [],
   "source": [
    "#find all csv files in the folder\n",
    "#use glob pattern matching: extension = 'csv'\n",
    "#save result in list as all_filenames\n",
    "extension = 'csv'\n",
    "all_filenames = [i for i in glob.glob('*.{}'.format(extension))]"
   ]
  },
  {
   "cell_type": "markdown",
   "metadata": {},
   "source": [
    "#### To-Do - Combine all the files in the generated list above and export to a CSV\n",
    "Tips - Use the `pd.concat` method"
   ]
  },
  {
   "cell_type": "code",
   "execution_count": 3,
   "metadata": {},
   "outputs": [],
   "source": [
    "#combine all files in the list\n",
    "combined_csv = pd.concat([pd.read_csv(j) for j in all_filenames ])\n",
    "#export to csv\n",
    "combined_csv.to_csv( \"combined_csv.csv\", index=False, encoding='utf-8-sig')"
   ]
  },
  {
   "cell_type": "markdown",
   "metadata": {},
   "source": [
    "#### To-Do -Read the CSV file using `pd.read_csv` method"
   ]
  },
  {
   "cell_type": "code",
   "execution_count": 4,
   "metadata": {},
   "outputs": [],
   "source": [
    "df = pd.read_csv(\"combined_csv.csv\")"
   ]
  },
  {
   "cell_type": "markdown",
   "metadata": {},
   "source": [
    "## Step 2 - Data Exploration\n",
    "In this step you will explore the loaded dataset using some built-in Pandas function. You expected to begin to think about your analytical approach from here. \n",
    "You can include other methods that you might think will make your exploration process easier. For Instance, you can write a function that print out a summary of the missing data occurence in the data. Be sure to document these methods using `markdown` and in-line `comments`."
   ]
  },
  {
   "cell_type": "markdown",
   "metadata": {},
   "source": [
    "### Import Libraries"
   ]
  },
  {
   "cell_type": "code",
   "execution_count": 5,
   "metadata": {},
   "outputs": [],
   "source": [
    "import pandas as pd\n",
    "import numpy as np\n",
    "import seaborn as sns\n",
    "import matplotlib.pyplot as plt\n",
    "%matplotlib inline\n",
    "plt.style.use('fivethirtyeight')  \n",
    "import warnings\n",
    "warnings.filterwarnings('ignore')"
   ]
  },
  {
   "cell_type": "markdown",
   "metadata": {},
   "source": [
    "#### To-Do - Use the head() method to view first few rows of the dataset"
   ]
  },
  {
   "cell_type": "code",
   "execution_count": 6,
   "metadata": {},
   "outputs": [
    {
     "data": {
      "text/html": [
       "<div>\n",
       "<style scoped>\n",
       "    .dataframe tbody tr th:only-of-type {\n",
       "        vertical-align: middle;\n",
       "    }\n",
       "\n",
       "    .dataframe tbody tr th {\n",
       "        vertical-align: top;\n",
       "    }\n",
       "\n",
       "    .dataframe thead th {\n",
       "        text-align: right;\n",
       "    }\n",
       "</style>\n",
       "<table border=\"1\" class=\"dataframe\">\n",
       "  <thead>\n",
       "    <tr style=\"text-align: right;\">\n",
       "      <th></th>\n",
       "      <th>Invoice ID</th>\n",
       "      <th>Branch</th>\n",
       "      <th>City</th>\n",
       "      <th>Customer type</th>\n",
       "      <th>Gender</th>\n",
       "      <th>Product line</th>\n",
       "      <th>Unit price</th>\n",
       "      <th>Quantity</th>\n",
       "      <th>Tax 5%</th>\n",
       "      <th>Total</th>\n",
       "      <th>Date</th>\n",
       "      <th>Time</th>\n",
       "      <th>Payment</th>\n",
       "      <th>cogs</th>\n",
       "      <th>gross margin percentage</th>\n",
       "      <th>gross income</th>\n",
       "      <th>Rating</th>\n",
       "    </tr>\n",
       "  </thead>\n",
       "  <tbody>\n",
       "    <tr>\n",
       "      <th>0</th>\n",
       "      <td>692-92-5582</td>\n",
       "      <td>B</td>\n",
       "      <td>Abuja</td>\n",
       "      <td>Member</td>\n",
       "      <td>Female</td>\n",
       "      <td>Food and beverages</td>\n",
       "      <td>19742.4</td>\n",
       "      <td>3</td>\n",
       "      <td>2961.36</td>\n",
       "      <td>62188.56</td>\n",
       "      <td>2/20/2019</td>\n",
       "      <td>13:27</td>\n",
       "      <td>Card</td>\n",
       "      <td>59227.2</td>\n",
       "      <td>4.761905</td>\n",
       "      <td>2961.36</td>\n",
       "      <td>5.9</td>\n",
       "    </tr>\n",
       "    <tr>\n",
       "      <th>1</th>\n",
       "      <td>351-62-0822</td>\n",
       "      <td>B</td>\n",
       "      <td>Abuja</td>\n",
       "      <td>Member</td>\n",
       "      <td>Female</td>\n",
       "      <td>Fashion accessories</td>\n",
       "      <td>5212.8</td>\n",
       "      <td>4</td>\n",
       "      <td>1042.56</td>\n",
       "      <td>21893.76</td>\n",
       "      <td>2/6/2019</td>\n",
       "      <td>18:07</td>\n",
       "      <td>Epay</td>\n",
       "      <td>20851.2</td>\n",
       "      <td>4.761905</td>\n",
       "      <td>1042.56</td>\n",
       "      <td>4.5</td>\n",
       "    </tr>\n",
       "    <tr>\n",
       "      <th>2</th>\n",
       "      <td>529-56-3974</td>\n",
       "      <td>B</td>\n",
       "      <td>Abuja</td>\n",
       "      <td>Member</td>\n",
       "      <td>Male</td>\n",
       "      <td>Electronic accessories</td>\n",
       "      <td>9183.6</td>\n",
       "      <td>4</td>\n",
       "      <td>1836.72</td>\n",
       "      <td>38571.12</td>\n",
       "      <td>3/9/2019</td>\n",
       "      <td>17:03</td>\n",
       "      <td>Cash</td>\n",
       "      <td>36734.4</td>\n",
       "      <td>4.761905</td>\n",
       "      <td>1836.72</td>\n",
       "      <td>6.8</td>\n",
       "    </tr>\n",
       "    <tr>\n",
       "      <th>3</th>\n",
       "      <td>299-46-1805</td>\n",
       "      <td>B</td>\n",
       "      <td>Abuja</td>\n",
       "      <td>Member</td>\n",
       "      <td>Female</td>\n",
       "      <td>Sports and travel</td>\n",
       "      <td>33739.2</td>\n",
       "      <td>6</td>\n",
       "      <td>10121.76</td>\n",
       "      <td>212556.96</td>\n",
       "      <td>1/15/2019</td>\n",
       "      <td>16:19</td>\n",
       "      <td>Cash</td>\n",
       "      <td>202435.2</td>\n",
       "      <td>4.761905</td>\n",
       "      <td>10121.76</td>\n",
       "      <td>4.5</td>\n",
       "    </tr>\n",
       "    <tr>\n",
       "      <th>4</th>\n",
       "      <td>319-50-3348</td>\n",
       "      <td>B</td>\n",
       "      <td>Abuja</td>\n",
       "      <td>Normal</td>\n",
       "      <td>Female</td>\n",
       "      <td>Home and lifestyle</td>\n",
       "      <td>14508.0</td>\n",
       "      <td>2</td>\n",
       "      <td>1450.80</td>\n",
       "      <td>30466.80</td>\n",
       "      <td>3/11/2019</td>\n",
       "      <td>15:30</td>\n",
       "      <td>Epay</td>\n",
       "      <td>29016.0</td>\n",
       "      <td>4.761905</td>\n",
       "      <td>1450.80</td>\n",
       "      <td>4.4</td>\n",
       "    </tr>\n",
       "  </tbody>\n",
       "</table>\n",
       "</div>"
      ],
      "text/plain": [
       "    Invoice ID Branch   City Customer type  Gender            Product line  \\\n",
       "0  692-92-5582      B  Abuja        Member  Female      Food and beverages   \n",
       "1  351-62-0822      B  Abuja        Member  Female     Fashion accessories   \n",
       "2  529-56-3974      B  Abuja        Member    Male  Electronic accessories   \n",
       "3  299-46-1805      B  Abuja        Member  Female       Sports and travel   \n",
       "4  319-50-3348      B  Abuja        Normal  Female      Home and lifestyle   \n",
       "\n",
       "   Unit price  Quantity    Tax 5%      Total       Date   Time Payment  \\\n",
       "0     19742.4         3   2961.36   62188.56  2/20/2019  13:27    Card   \n",
       "1      5212.8         4   1042.56   21893.76   2/6/2019  18:07    Epay   \n",
       "2      9183.6         4   1836.72   38571.12   3/9/2019  17:03    Cash   \n",
       "3     33739.2         6  10121.76  212556.96  1/15/2019  16:19    Cash   \n",
       "4     14508.0         2   1450.80   30466.80  3/11/2019  15:30    Epay   \n",
       "\n",
       "       cogs  gross margin percentage  gross income  Rating  \n",
       "0   59227.2                 4.761905       2961.36     5.9  \n",
       "1   20851.2                 4.761905       1042.56     4.5  \n",
       "2   36734.4                 4.761905       1836.72     6.8  \n",
       "3  202435.2                 4.761905      10121.76     4.5  \n",
       "4   29016.0                 4.761905       1450.80     4.4  "
      ]
     },
     "execution_count": 6,
     "metadata": {},
     "output_type": "execute_result"
    }
   ],
   "source": [
    "# View first five rows\n",
    "df.head()  # by default df.head() == df.head(5)"
   ]
  },
  {
   "cell_type": "markdown",
   "metadata": {},
   "source": [
    "#### To-Do - Check the number of rows and columns present in the data using the shape attribute."
   ]
  },
  {
   "cell_type": "code",
   "execution_count": 7,
   "metadata": {},
   "outputs": [
    {
     "data": {
      "text/plain": [
       "'There are 9000 rows and 17 columns in the dataset'"
      ]
     },
     "execution_count": 7,
     "metadata": {},
     "output_type": "execute_result"
    }
   ],
   "source": [
    "# gets the rows and columns in the dataset\n",
    "no_rows = df.shape[0]\n",
    "no_columns = df.shape[1]\n",
    "f\"There are {no_rows} rows and {no_columns} columns in the dataset\""
   ]
  },
  {
   "cell_type": "markdown",
   "metadata": {},
   "source": [
    "#### To-Do - Generate the names of the columns using the columns attribute."
   ]
  },
  {
   "cell_type": "code",
   "execution_count": 8,
   "metadata": {},
   "outputs": [
    {
     "name": "stdout",
     "output_type": "stream",
     "text": [
      "The names of the columns are: \n",
      " ['Invoice ID', 'Branch', 'City', 'Customer type', 'Gender', 'Product line', 'Unit price', 'Quantity', 'Tax 5%', 'Total', 'Date', 'Time', 'Payment', 'cogs', 'gross margin percentage', 'gross income', 'Rating']\n"
     ]
    }
   ],
   "source": [
    "# gets names of columns\n",
    "column_names = df.columns\n",
    "all_column_names = [i for i in column_names]\n",
    "print(f\"The names of the columns are: \\n {all_column_names}\")"
   ]
  },
  {
   "cell_type": "markdown",
   "metadata": {},
   "source": [
    "#### To-Do - Statiscal Summary\n",
    "The describe method provides the data statistical summary for the dataset, use the method to explore the statistical summary."
   ]
  },
  {
   "cell_type": "code",
   "execution_count": 9,
   "metadata": {},
   "outputs": [
    {
     "data": {
      "text/html": [
       "<div>\n",
       "<style scoped>\n",
       "    .dataframe tbody tr th:only-of-type {\n",
       "        vertical-align: middle;\n",
       "    }\n",
       "\n",
       "    .dataframe tbody tr th {\n",
       "        vertical-align: top;\n",
       "    }\n",
       "\n",
       "    .dataframe thead th {\n",
       "        text-align: right;\n",
       "    }\n",
       "</style>\n",
       "<table border=\"1\" class=\"dataframe\">\n",
       "  <thead>\n",
       "    <tr style=\"text-align: right;\">\n",
       "      <th></th>\n",
       "      <th>Unit price</th>\n",
       "      <th>Quantity</th>\n",
       "      <th>Tax 5%</th>\n",
       "      <th>Total</th>\n",
       "      <th>cogs</th>\n",
       "      <th>gross margin percentage</th>\n",
       "      <th>gross income</th>\n",
       "      <th>Rating</th>\n",
       "    </tr>\n",
       "  </thead>\n",
       "  <tbody>\n",
       "    <tr>\n",
       "      <th>count</th>\n",
       "      <td>9000.000000</td>\n",
       "      <td>9000.000000</td>\n",
       "      <td>9000.000000</td>\n",
       "      <td>9000.000000</td>\n",
       "      <td>9000.000000</td>\n",
       "      <td>9.000000e+03</td>\n",
       "      <td>9000.000000</td>\n",
       "      <td>9000.000000</td>\n",
       "    </tr>\n",
       "    <tr>\n",
       "      <th>mean</th>\n",
       "      <td>20041.966800</td>\n",
       "      <td>5.510000</td>\n",
       "      <td>5536.572840</td>\n",
       "      <td>116268.029640</td>\n",
       "      <td>110731.456800</td>\n",
       "      <td>4.761905e+00</td>\n",
       "      <td>5536.572840</td>\n",
       "      <td>6.972700</td>\n",
       "    </tr>\n",
       "    <tr>\n",
       "      <th>std</th>\n",
       "      <td>9533.825651</td>\n",
       "      <td>2.922131</td>\n",
       "      <td>4213.303136</td>\n",
       "      <td>88479.365863</td>\n",
       "      <td>84266.062726</td>\n",
       "      <td>2.034042e-13</td>\n",
       "      <td>4213.303136</td>\n",
       "      <td>1.717816</td>\n",
       "    </tr>\n",
       "    <tr>\n",
       "      <th>min</th>\n",
       "      <td>3628.800000</td>\n",
       "      <td>1.000000</td>\n",
       "      <td>183.060000</td>\n",
       "      <td>3844.260000</td>\n",
       "      <td>3661.200000</td>\n",
       "      <td>4.761905e+00</td>\n",
       "      <td>183.060000</td>\n",
       "      <td>4.000000</td>\n",
       "    </tr>\n",
       "    <tr>\n",
       "      <th>25%</th>\n",
       "      <td>11835.000000</td>\n",
       "      <td>3.000000</td>\n",
       "      <td>2132.955000</td>\n",
       "      <td>44792.055000</td>\n",
       "      <td>42659.100000</td>\n",
       "      <td>4.761905e+00</td>\n",
       "      <td>2132.955000</td>\n",
       "      <td>5.500000</td>\n",
       "    </tr>\n",
       "    <tr>\n",
       "      <th>50%</th>\n",
       "      <td>19882.800000</td>\n",
       "      <td>5.000000</td>\n",
       "      <td>4351.680000</td>\n",
       "      <td>91385.280000</td>\n",
       "      <td>87033.600000</td>\n",
       "      <td>4.761905e+00</td>\n",
       "      <td>4351.680000</td>\n",
       "      <td>7.000000</td>\n",
       "    </tr>\n",
       "    <tr>\n",
       "      <th>75%</th>\n",
       "      <td>28056.600000</td>\n",
       "      <td>8.000000</td>\n",
       "      <td>8080.290000</td>\n",
       "      <td>169686.090000</td>\n",
       "      <td>161605.800000</td>\n",
       "      <td>4.761905e+00</td>\n",
       "      <td>8080.290000</td>\n",
       "      <td>8.500000</td>\n",
       "    </tr>\n",
       "    <tr>\n",
       "      <th>max</th>\n",
       "      <td>35985.600000</td>\n",
       "      <td>10.000000</td>\n",
       "      <td>17874.000000</td>\n",
       "      <td>375354.000000</td>\n",
       "      <td>357480.000000</td>\n",
       "      <td>4.761905e+00</td>\n",
       "      <td>17874.000000</td>\n",
       "      <td>10.000000</td>\n",
       "    </tr>\n",
       "  </tbody>\n",
       "</table>\n",
       "</div>"
      ],
      "text/plain": [
       "         Unit price     Quantity        Tax 5%          Total           cogs  \\\n",
       "count   9000.000000  9000.000000   9000.000000    9000.000000    9000.000000   \n",
       "mean   20041.966800     5.510000   5536.572840  116268.029640  110731.456800   \n",
       "std     9533.825651     2.922131   4213.303136   88479.365863   84266.062726   \n",
       "min     3628.800000     1.000000    183.060000    3844.260000    3661.200000   \n",
       "25%    11835.000000     3.000000   2132.955000   44792.055000   42659.100000   \n",
       "50%    19882.800000     5.000000   4351.680000   91385.280000   87033.600000   \n",
       "75%    28056.600000     8.000000   8080.290000  169686.090000  161605.800000   \n",
       "max    35985.600000    10.000000  17874.000000  375354.000000  357480.000000   \n",
       "\n",
       "       gross margin percentage  gross income       Rating  \n",
       "count             9.000000e+03   9000.000000  9000.000000  \n",
       "mean              4.761905e+00   5536.572840     6.972700  \n",
       "std               2.034042e-13   4213.303136     1.717816  \n",
       "min               4.761905e+00    183.060000     4.000000  \n",
       "25%               4.761905e+00   2132.955000     5.500000  \n",
       "50%               4.761905e+00   4351.680000     7.000000  \n",
       "75%               4.761905e+00   8080.290000     8.500000  \n",
       "max               4.761905e+00  17874.000000    10.000000  "
      ]
     },
     "execution_count": 9,
     "metadata": {},
     "output_type": "execute_result"
    }
   ],
   "source": [
    "# gets statistical summary of the numeric data in the dataset\n",
    "df.describe()"
   ]
  },
  {
   "cell_type": "markdown",
   "metadata": {},
   "source": [
    "#### To-Do - Below this cell write in few sentences what you can derive from the data statistical summary"
   ]
  },
  {
   "cell_type": "markdown",
   "metadata": {},
   "source": [
    "The describe method provided us with the lower percentile (ie 25%), the upper percentile (ie 75%) and the median (ie 50%)\n",
    "* 25% of the Price of each product in Naira is not above #11835 with the mininum being #3628.80 and the maximum being #35985.60\n",
    "* 25% of the Number of products purchased by customer is within the range of 1 to 3, with the mininum being 1 and the maximum being 10\n",
    "* 25% of customer buying paid a 5% tax fee which is less than #2133, with the mininum tax paid as #183.06 and the maximum as #17874\n",
    "* 25% of the Total price including tax is less than #44793, with the mininum tax paid as #3845 and the maximum as #375354"
   ]
  },
  {
   "cell_type": "markdown",
   "metadata": {},
   "source": [
    "#### To-Do - Missing values\n",
    "The `isnull`, and `notna` methods can provide a quick overview of the missing data occurence, use that to observe the presence of missing data in the dataset. You can add the sum method to get a summary and not boolean values."
   ]
  },
  {
   "cell_type": "code",
   "execution_count": 10,
   "metadata": {
    "scrolled": true
   },
   "outputs": [
    {
     "data": {
      "text/plain": [
       "Invoice ID                 0\n",
       "Branch                     0\n",
       "City                       0\n",
       "Customer type              0\n",
       "Gender                     0\n",
       "Product line               0\n",
       "Unit price                 0\n",
       "Quantity                   0\n",
       "Tax 5%                     0\n",
       "Total                      0\n",
       "Date                       0\n",
       "Time                       0\n",
       "Payment                    0\n",
       "cogs                       0\n",
       "gross margin percentage    0\n",
       "gross income               0\n",
       "Rating                     0\n",
       "dtype: int64"
      ]
     },
     "execution_count": 10,
     "metadata": {},
     "output_type": "execute_result"
    }
   ],
   "source": [
    "# checks null\n",
    "df.isna().sum()"
   ]
  },
  {
   "cell_type": "code",
   "execution_count": 11,
   "metadata": {},
   "outputs": [
    {
     "data": {
      "text/plain": [
       "Invoice ID                 9000\n",
       "Branch                     9000\n",
       "City                       9000\n",
       "Customer type              9000\n",
       "Gender                     9000\n",
       "Product line               9000\n",
       "Unit price                 9000\n",
       "Quantity                   9000\n",
       "Tax 5%                     9000\n",
       "Total                      9000\n",
       "Date                       9000\n",
       "Time                       9000\n",
       "Payment                    9000\n",
       "cogs                       9000\n",
       "gross margin percentage    9000\n",
       "gross income               9000\n",
       "Rating                     9000\n",
       "dtype: int64"
      ]
     },
     "execution_count": 11,
     "metadata": {},
     "output_type": "execute_result"
    }
   ],
   "source": [
    "# chceks not null\n",
    "df.notna().sum()"
   ]
  },
  {
   "cell_type": "markdown",
   "metadata": {},
   "source": [
    "All columns in the dataset have no(zero) null value"
   ]
  },
  {
   "cell_type": "markdown",
   "metadata": {},
   "source": [
    "#### To-Do - Data Information\n",
    "The `info()` function is used to print a concise summary of a DataFrame. This method prints information about a DataFrame including the index dtype and column dtypes, non-null values and memory usage. Use this method to observe the data type of each feature."
   ]
  },
  {
   "cell_type": "code",
   "execution_count": 12,
   "metadata": {},
   "outputs": [
    {
     "name": "stdout",
     "output_type": "stream",
     "text": [
      "<class 'pandas.core.frame.DataFrame'>\n",
      "RangeIndex: 9000 entries, 0 to 8999\n",
      "Data columns (total 17 columns):\n",
      " #   Column                   Non-Null Count  Dtype  \n",
      "---  ------                   --------------  -----  \n",
      " 0   Invoice ID               9000 non-null   object \n",
      " 1   Branch                   9000 non-null   object \n",
      " 2   City                     9000 non-null   object \n",
      " 3   Customer type            9000 non-null   object \n",
      " 4   Gender                   9000 non-null   object \n",
      " 5   Product line             9000 non-null   object \n",
      " 6   Unit price               9000 non-null   float64\n",
      " 7   Quantity                 9000 non-null   int64  \n",
      " 8   Tax 5%                   9000 non-null   float64\n",
      " 9   Total                    9000 non-null   float64\n",
      " 10  Date                     9000 non-null   object \n",
      " 11  Time                     9000 non-null   object \n",
      " 12  Payment                  9000 non-null   object \n",
      " 13  cogs                     9000 non-null   float64\n",
      " 14  gross margin percentage  9000 non-null   float64\n",
      " 15  gross income             9000 non-null   float64\n",
      " 16  Rating                   9000 non-null   float64\n",
      "dtypes: float64(7), int64(1), object(9)\n",
      "memory usage: 1.2+ MB\n"
     ]
    }
   ],
   "source": [
    "# provide info about dataset\n",
    "df.info()"
   ]
  },
  {
   "cell_type": "markdown",
   "metadata": {},
   "source": [
    "## Step 3 - Dealing with DateTime Features"
   ]
  },
  {
   "cell_type": "markdown",
   "metadata": {},
   "source": [
    "From the summary above, you can observe that the `date` and `time` columns are not in the appropriate data type\n",
    "you can convert to `datetime` datatype using the `to_datetime()` method. After that is done, use the type attribute \n",
    "to confirm the datatype. "
   ]
  },
  {
   "cell_type": "markdown",
   "metadata": {},
   "source": [
    "#### To-Do - Use `to_datetime()` to convert the `date` column to `datetime`"
   ]
  },
  {
   "cell_type": "code",
   "execution_count": 13,
   "metadata": {},
   "outputs": [],
   "source": [
    "# convert the date column to datetime\n",
    "df['Date'] = pd.to_datetime(df['Date'])"
   ]
  },
  {
   "cell_type": "markdown",
   "metadata": {},
   "source": [
    "#### To-Do - Check the datatype to confirm if it's in `datetime`"
   ]
  },
  {
   "cell_type": "code",
   "execution_count": 14,
   "metadata": {},
   "outputs": [
    {
     "data": {
      "text/plain": [
       "dtype('<M8[ns]')"
      ]
     },
     "execution_count": 14,
     "metadata": {},
     "output_type": "execute_result"
    }
   ],
   "source": [
    "# checks datatype of Date column\n",
    "df[\"Date\"].dtype    #'M8(ns)' is 'datetime64[ns]'"
   ]
  },
  {
   "cell_type": "markdown",
   "metadata": {},
   "source": [
    "#### To-Do - Repeat the two steps above to the `time` column"
   ]
  },
  {
   "cell_type": "code",
   "execution_count": 15,
   "metadata": {},
   "outputs": [
    {
     "data": {
      "text/plain": [
       "dtype('<M8[ns]')"
      ]
     },
     "execution_count": 15,
     "metadata": {},
     "output_type": "execute_result"
    }
   ],
   "source": [
    "# convert the date column to datetime\n",
    "df['Time'] = pd.to_datetime(df['Time'])\n",
    "# checks datatype of Date column\n",
    "df[\"Time\"].dtype    #'M8(ns)' is 'datetime64[ns]'"
   ]
  },
  {
   "cell_type": "markdown",
   "metadata": {},
   "source": [
    "## Extract Features from date & time"
   ]
  },
  {
   "cell_type": "markdown",
   "metadata": {},
   "source": [
    "#### To-Do - Extract the Day feature from the `Date` column, and save to a new `Day` column"
   ]
  },
  {
   "cell_type": "code",
   "execution_count": 16,
   "metadata": {},
   "outputs": [],
   "source": [
    "# creates Day column from Date\n",
    "df['Day'] = df.Date.dt.day"
   ]
  },
  {
   "cell_type": "markdown",
   "metadata": {},
   "source": [
    "#### To-Do - Extract the Month feature from the `Date` column, and save to a new `Month` column"
   ]
  },
  {
   "cell_type": "code",
   "execution_count": 17,
   "metadata": {},
   "outputs": [],
   "source": [
    "# creates Month column from Date\n",
    "df['Month'] = df.Date.dt.month"
   ]
  },
  {
   "cell_type": "markdown",
   "metadata": {},
   "source": [
    "#### To-Do -Extract the Year feature from the `Date` column, and save to a new `Year` column  "
   ]
  },
  {
   "cell_type": "code",
   "execution_count": 18,
   "metadata": {},
   "outputs": [],
   "source": [
    "# creates Year column from Date\n",
    "df['Year'] = df.Date.dt.year"
   ]
  },
  {
   "cell_type": "markdown",
   "metadata": {},
   "source": [
    "#### To-Do - Extract the `Hour` feature from the `Time` column and save to a new `Hour` column"
   ]
  },
  {
   "cell_type": "code",
   "execution_count": 19,
   "metadata": {},
   "outputs": [],
   "source": [
    "# creates Hour column from Date\n",
    "df['Hour'] = df.Time.dt.hour"
   ]
  },
  {
   "cell_type": "markdown",
   "metadata": {},
   "source": [
    "#### Pandas provide the `nunique()` method to get a count of unique values, while the `unique()` function is used to get unique values of Series object."
   ]
  },
  {
   "cell_type": "markdown",
   "metadata": {},
   "source": [
    "#### To-Do -  From the hours information, determine the numbers of unique hours of sales in the supermarket, and return an array of the hours using the unique() method"
   ]
  },
  {
   "cell_type": "code",
   "execution_count": 20,
   "metadata": {},
   "outputs": [
    {
     "data": {
      "text/plain": [
       "'There are 11 unique hours from the hours information'"
      ]
     },
     "execution_count": 20,
     "metadata": {},
     "output_type": "execute_result"
    }
   ],
   "source": [
    "# gives number of unique hours\n",
    "f\"There are {df.Hour.nunique()} unique hours from the hours information\""
   ]
  },
  {
   "cell_type": "code",
   "execution_count": 21,
   "metadata": {},
   "outputs": [
    {
     "data": {
      "text/plain": [
       "'This unique hours are [13, 18, 17, 16, 15, 10, 12, 19, 14, 11, 20]'"
      ]
     },
     "execution_count": 21,
     "metadata": {},
     "output_type": "execute_result"
    }
   ],
   "source": [
    "# gives the unique hours\n",
    "f\"This unique hours are {df.Hour.unique().tolist()}\""
   ]
  },
  {
   "cell_type": "markdown",
   "metadata": {},
   "source": [
    "## Step 4 - Unique Values in Columns"
   ]
  },
  {
   "cell_type": "markdown",
   "metadata": {},
   "source": [
    "With the line of code below, we can get a list of the categorical column in the dataset. We iterate through the columns and check if each element is an object datatype. The result is saved to the \"categorical_columns\" variable\n",
    "as a list."
   ]
  },
  {
   "cell_type": "code",
   "execution_count": 22,
   "metadata": {},
   "outputs": [
    {
     "data": {
      "text/plain": [
       "['Invoice ID',\n",
       " 'Branch',\n",
       " 'City',\n",
       " 'Customer type',\n",
       " 'Gender',\n",
       " 'Product line',\n",
       " 'Payment']"
      ]
     },
     "execution_count": 22,
     "metadata": {},
     "output_type": "execute_result"
    }
   ],
   "source": [
    "categorical_columns = [col for col in df.columns if df[col].dtype == \"object\" ]\n",
    "categorical_columns"
   ]
  },
  {
   "cell_type": "markdown",
   "metadata": {},
   "source": [
    "#### To-Do- From the information above, generate the unique values in the categorical columns (apart from the example - Branch column).\n",
    "For example, the unique values of the \"Branch\" column is displayed in list, as shown below.\n",
    "<br/>\n",
    "`df['Branch'].unique().tolist()\n",
    "['B', 'C', 'A']`\n",
    "</br>\n",
    "<br/>\n",
    "You can add print formating syntax to print out the total numbers of these values in a particular column. "
   ]
  },
  {
   "cell_type": "code",
   "execution_count": 23,
   "metadata": {},
   "outputs": [
    {
     "data": {
      "text/plain": [
       "['B', 'A', 'C']"
      ]
     },
     "execution_count": 23,
     "metadata": {},
     "output_type": "execute_result"
    }
   ],
   "source": [
    "#Example\n",
    "df['Branch'].unique().tolist()"
   ]
  },
  {
   "cell_type": "code",
   "execution_count": 24,
   "metadata": {},
   "outputs": [
    {
     "name": "stdout",
     "output_type": "stream",
     "text": [
      "Total Number of unique values in the Branch Column : 3\n"
     ]
    }
   ],
   "source": [
    "print(\"Total Number of unique values in the Branch Column : {}\". format(len(df['Branch'].unique().tolist())))"
   ]
  },
  {
   "cell_type": "markdown",
   "metadata": {},
   "source": [
    "Unique values for the \"City\" column in list "
   ]
  },
  {
   "cell_type": "code",
   "execution_count": 25,
   "metadata": {},
   "outputs": [
    {
     "name": "stdout",
     "output_type": "stream",
     "text": [
      "Total Number of unique values in the City Column is 3 and they are ['Abuja', 'Lagos', 'Port Harcourt']\n"
     ]
    }
   ],
   "source": [
    "print(\"Total Number of unique values in the City Column is {} and they are {}\". format(len(df['City'].unique().tolist()), df['City'].unique().tolist()))"
   ]
  },
  {
   "cell_type": "markdown",
   "metadata": {},
   "source": [
    "Unique values for the \"Customer type\" column in list "
   ]
  },
  {
   "cell_type": "code",
   "execution_count": 26,
   "metadata": {},
   "outputs": [
    {
     "name": "stdout",
     "output_type": "stream",
     "text": [
      "Total Number of unique values in the Customer type Column is 2 \n",
      "They are ['Member', 'Normal']\n"
     ]
    }
   ],
   "source": [
    "print(\"Total Number of unique values in the Customer type Column is {} \\nThey are {}\". format(len(df['Customer type'].unique().tolist()), df['Customer type'].unique().tolist()))"
   ]
  },
  {
   "cell_type": "markdown",
   "metadata": {},
   "source": [
    "Unique values for the \"Gender\" column in list"
   ]
  },
  {
   "cell_type": "code",
   "execution_count": 27,
   "metadata": {},
   "outputs": [
    {
     "name": "stdout",
     "output_type": "stream",
     "text": [
      "Total Number of unique values in the Gender Column is 2 \n",
      "They are ['Female', 'Male']\n"
     ]
    }
   ],
   "source": [
    "print(\"Total Number of unique values in the Gender Column is {} \\nThey are {}\". format(len(df['Gender'].unique().tolist()), df['Gender'].unique().tolist()))"
   ]
  },
  {
   "cell_type": "markdown",
   "metadata": {},
   "source": [
    "Unique values for the \"Product line\" column in list"
   ]
  },
  {
   "cell_type": "code",
   "execution_count": 28,
   "metadata": {},
   "outputs": [
    {
     "name": "stdout",
     "output_type": "stream",
     "text": [
      "Total Number of unique values in the Product line Column is 6 \n",
      "They are ['Food and beverages', 'Fashion accessories', 'Electronic accessories', 'Sports and travel', 'Home and lifestyle', 'Health and beauty']\n"
     ]
    }
   ],
   "source": [
    "print(\"Total Number of unique values in the Product line Column is {a} \\nThey are {b}\".format(a = len(df[\"Product line\"].unique().tolist()), b = df[\"Product line\"].unique().tolist()))"
   ]
  },
  {
   "cell_type": "markdown",
   "metadata": {},
   "source": [
    "Unique values for the \"Payment\" column in list"
   ]
  },
  {
   "cell_type": "code",
   "execution_count": 29,
   "metadata": {},
   "outputs": [
    {
     "name": "stdout",
     "output_type": "stream",
     "text": [
      "Total Number of unique values in the Payment Column is 3 \n",
      "They are ['Card', 'Epay', 'Cash']\n"
     ]
    }
   ],
   "source": [
    "print(f\"Total Number of unique values in the Payment Column is {len(df.Payment.unique().tolist())} \\nThey are {df.Payment.unique().tolist()}\")"
   ]
  },
  {
   "cell_type": "markdown",
   "metadata": {},
   "source": [
    "#### To-Do: The `value_counts()` function is used to get a Series containing counts of unique values. For the categorical columns above, generate the count figure of the values using the `value_counts() ` method.\n"
   ]
  },
  {
   "cell_type": "code",
   "execution_count": 30,
   "metadata": {},
   "outputs": [
    {
     "data": {
      "text/plain": [
       "Lagos            3060\n",
       "Abuja            2988\n",
       "Port Harcourt    2952\n",
       "Name: City, dtype: int64"
      ]
     },
     "execution_count": 30,
     "metadata": {},
     "output_type": "execute_result"
    }
   ],
   "source": [
    "#Example\n",
    "df['City'].value_counts()"
   ]
  },
  {
   "cell_type": "code",
   "execution_count": 31,
   "metadata": {},
   "outputs": [
    {
     "name": "stdout",
     "output_type": "stream",
     "text": [
      "Branch Column value count \n",
      "A    3060\n",
      "B    2988\n",
      "C    2952\n",
      "Name: Branch, dtype: int64\n"
     ]
    }
   ],
   "source": [
    "# count of values in \"Branch\" column\n",
    "print(\"Branch Column value count \\n{}\".format(df['Branch'].value_counts()))"
   ]
  },
  {
   "cell_type": "code",
   "execution_count": 32,
   "metadata": {},
   "outputs": [
    {
     "name": "stdout",
     "output_type": "stream",
     "text": [
      "Branch Column value count \n",
      "A    3060\n",
      "B    2988\n",
      "C    2952\n",
      "Name: Branch, dtype: int64\n"
     ]
    }
   ],
   "source": [
    "# count of values in \"Branch\" column\n",
    "print(\"Branch Column value count \\n{}\".format(df['Branch'].value_counts()))"
   ]
  },
  {
   "cell_type": "code",
   "execution_count": 33,
   "metadata": {},
   "outputs": [
    {
     "name": "stdout",
     "output_type": "stream",
     "text": [
      "Customer type Column value count \n",
      "Member    4509\n",
      "Normal    4491\n",
      "Name: Customer type, dtype: int64\n"
     ]
    }
   ],
   "source": [
    "# count of values in \"Customer type\" column\n",
    "print(\"Customer type Column value count \\n{}\".format(df['Customer type'].value_counts()))"
   ]
  },
  {
   "cell_type": "code",
   "execution_count": 34,
   "metadata": {},
   "outputs": [
    {
     "name": "stdout",
     "output_type": "stream",
     "text": [
      "Product line Column value count \n",
      "Fashion accessories       1602\n",
      "Food and beverages        1566\n",
      "Electronic accessories    1530\n",
      "Sports and travel         1494\n",
      "Home and lifestyle        1440\n",
      "Health and beauty         1368\n",
      "Name: Product line, dtype: int64\n"
     ]
    }
   ],
   "source": [
    "# count of values in \"Product line\" column\n",
    "print(\"Product line Column value count \\n{}\".format(df['Product line'].value_counts()))"
   ]
  },
  {
   "cell_type": "code",
   "execution_count": 35,
   "metadata": {},
   "outputs": [
    {
     "name": "stdout",
     "output_type": "stream",
     "text": [
      "Gender Column value count \n",
      "Female    4509\n",
      "Male      4491\n",
      "Name: Gender, dtype: int64\n"
     ]
    }
   ],
   "source": [
    "# count of values in \"Gender\" column\n",
    "print(f\"Gender Column value count \\n{df['Gender'].value_counts()}\")"
   ]
  },
  {
   "cell_type": "code",
   "execution_count": 36,
   "metadata": {},
   "outputs": [
    {
     "name": "stdout",
     "output_type": "stream",
     "text": [
      "Payment Column value count \n",
      "Epay    3105\n",
      "Cash    3096\n",
      "Card    2799\n",
      "Name: Payment, dtype: int64\n"
     ]
    }
   ],
   "source": [
    "# count of values in \"Payment\" column\n",
    "print(f\"Payment Column value count \\n{df['Payment'].value_counts()}\")"
   ]
  },
  {
   "cell_type": "markdown",
   "metadata": {},
   "source": [
    "## Step 5 - Aggregration with GroupBy"
   ]
  },
  {
   "cell_type": "markdown",
   "metadata": {},
   "source": [
    "#### To-Do - Your task here, will be to create a groupby object with the \"City Column\", and aggregation function of sum and mean. "
   ]
  },
  {
   "cell_type": "code",
   "execution_count": 37,
   "metadata": {},
   "outputs": [],
   "source": [
    "# group by City as city_grp\n",
    "city_grp = df.groupby('City')"
   ]
  },
  {
   "cell_type": "code",
   "execution_count": 38,
   "metadata": {},
   "outputs": [
    {
     "data": {
      "text/html": [
       "<div>\n",
       "<style scoped>\n",
       "    .dataframe tbody tr th:only-of-type {\n",
       "        vertical-align: middle;\n",
       "    }\n",
       "\n",
       "    .dataframe tbody tr th {\n",
       "        vertical-align: top;\n",
       "    }\n",
       "\n",
       "    .dataframe thead th {\n",
       "        text-align: right;\n",
       "    }\n",
       "</style>\n",
       "<table border=\"1\" class=\"dataframe\">\n",
       "  <thead>\n",
       "    <tr style=\"text-align: right;\">\n",
       "      <th></th>\n",
       "      <th>Unit price</th>\n",
       "      <th>Quantity</th>\n",
       "      <th>Tax 5%</th>\n",
       "      <th>Total</th>\n",
       "      <th>cogs</th>\n",
       "      <th>gross margin percentage</th>\n",
       "      <th>gross income</th>\n",
       "      <th>Rating</th>\n",
       "      <th>Day</th>\n",
       "      <th>Month</th>\n",
       "      <th>Year</th>\n",
       "      <th>Hour</th>\n",
       "    </tr>\n",
       "    <tr>\n",
       "      <th>City</th>\n",
       "      <th></th>\n",
       "      <th></th>\n",
       "      <th></th>\n",
       "      <th></th>\n",
       "      <th></th>\n",
       "      <th></th>\n",
       "      <th></th>\n",
       "      <th></th>\n",
       "      <th></th>\n",
       "      <th></th>\n",
       "      <th></th>\n",
       "      <th></th>\n",
       "    </tr>\n",
       "  </thead>\n",
       "  <tbody>\n",
       "    <tr>\n",
       "      <th>Abuja</th>\n",
       "      <td>59871571.2</td>\n",
       "      <td>16380</td>\n",
       "      <td>16384783.68</td>\n",
       "      <td>3.440805e+08</td>\n",
       "      <td>327695673.6</td>\n",
       "      <td>14228.571429</td>\n",
       "      <td>16384783.68</td>\n",
       "      <td>20372.4</td>\n",
       "      <td>45612</td>\n",
       "      <td>5985</td>\n",
       "      <td>6032772</td>\n",
       "      <td>45261</td>\n",
       "    </tr>\n",
       "    <tr>\n",
       "      <th>Lagos</th>\n",
       "      <td>60346587.6</td>\n",
       "      <td>16731</td>\n",
       "      <td>16385200.02</td>\n",
       "      <td>3.440892e+08</td>\n",
       "      <td>327704000.4</td>\n",
       "      <td>14571.428572</td>\n",
       "      <td>16385200.02</td>\n",
       "      <td>21502.8</td>\n",
       "      <td>47088</td>\n",
       "      <td>6192</td>\n",
       "      <td>6178140</td>\n",
       "      <td>44883</td>\n",
       "    </tr>\n",
       "    <tr>\n",
       "      <th>Port Harcourt</th>\n",
       "      <td>60159542.4</td>\n",
       "      <td>16479</td>\n",
       "      <td>17059171.86</td>\n",
       "      <td>3.582426e+08</td>\n",
       "      <td>341183437.2</td>\n",
       "      <td>14057.142857</td>\n",
       "      <td>17059171.86</td>\n",
       "      <td>20879.1</td>\n",
       "      <td>44604</td>\n",
       "      <td>5760</td>\n",
       "      <td>5960088</td>\n",
       "      <td>44046</td>\n",
       "    </tr>\n",
       "  </tbody>\n",
       "</table>\n",
       "</div>"
      ],
      "text/plain": [
       "               Unit price  Quantity       Tax 5%         Total         cogs  \\\n",
       "City                                                                          \n",
       "Abuja          59871571.2     16380  16384783.68  3.440805e+08  327695673.6   \n",
       "Lagos          60346587.6     16731  16385200.02  3.440892e+08  327704000.4   \n",
       "Port Harcourt  60159542.4     16479  17059171.86  3.582426e+08  341183437.2   \n",
       "\n",
       "               gross margin percentage  gross income   Rating    Day  Month  \\\n",
       "City                                                                          \n",
       "Abuja                     14228.571429   16384783.68  20372.4  45612   5985   \n",
       "Lagos                     14571.428572   16385200.02  21502.8  47088   6192   \n",
       "Port Harcourt             14057.142857   17059171.86  20879.1  44604   5760   \n",
       "\n",
       "                  Year   Hour  \n",
       "City                           \n",
       "Abuja          6032772  45261  \n",
       "Lagos          6178140  44883  \n",
       "Port Harcourt  5960088  44046  "
      ]
     },
     "execution_count": 38,
     "metadata": {},
     "output_type": "execute_result"
    }
   ],
   "source": [
    "# sum by city_grp\n",
    "city_grp.sum()"
   ]
  },
  {
   "cell_type": "code",
   "execution_count": 39,
   "metadata": {},
   "outputs": [
    {
     "data": {
      "text/html": [
       "<div>\n",
       "<style scoped>\n",
       "    .dataframe tbody tr th:only-of-type {\n",
       "        vertical-align: middle;\n",
       "    }\n",
       "\n",
       "    .dataframe tbody tr th {\n",
       "        vertical-align: top;\n",
       "    }\n",
       "\n",
       "    .dataframe thead th {\n",
       "        text-align: right;\n",
       "    }\n",
       "</style>\n",
       "<table border=\"1\" class=\"dataframe\">\n",
       "  <thead>\n",
       "    <tr style=\"text-align: right;\">\n",
       "      <th></th>\n",
       "      <th>Unit price</th>\n",
       "      <th>Quantity</th>\n",
       "      <th>Tax 5%</th>\n",
       "      <th>Total</th>\n",
       "      <th>cogs</th>\n",
       "      <th>gross margin percentage</th>\n",
       "      <th>gross income</th>\n",
       "      <th>Rating</th>\n",
       "      <th>Day</th>\n",
       "      <th>Month</th>\n",
       "      <th>Year</th>\n",
       "      <th>Hour</th>\n",
       "    </tr>\n",
       "    <tr>\n",
       "      <th>City</th>\n",
       "      <th></th>\n",
       "      <th></th>\n",
       "      <th></th>\n",
       "      <th></th>\n",
       "      <th></th>\n",
       "      <th></th>\n",
       "      <th></th>\n",
       "      <th></th>\n",
       "      <th></th>\n",
       "      <th></th>\n",
       "      <th></th>\n",
       "      <th></th>\n",
       "    </tr>\n",
       "  </thead>\n",
       "  <tbody>\n",
       "    <tr>\n",
       "      <th>Abuja</th>\n",
       "      <td>20037.339759</td>\n",
       "      <td>5.481928</td>\n",
       "      <td>5483.528675</td>\n",
       "      <td>115154.102169</td>\n",
       "      <td>109670.573494</td>\n",
       "      <td>4.761905</td>\n",
       "      <td>5483.528675</td>\n",
       "      <td>6.818072</td>\n",
       "      <td>15.265060</td>\n",
       "      <td>2.003012</td>\n",
       "      <td>2019.0</td>\n",
       "      <td>15.147590</td>\n",
       "    </tr>\n",
       "    <tr>\n",
       "      <th>Lagos</th>\n",
       "      <td>19721.107059</td>\n",
       "      <td>5.467647</td>\n",
       "      <td>5354.640529</td>\n",
       "      <td>112447.451118</td>\n",
       "      <td>107092.810588</td>\n",
       "      <td>4.761905</td>\n",
       "      <td>5354.640529</td>\n",
       "      <td>7.027059</td>\n",
       "      <td>15.388235</td>\n",
       "      <td>2.023529</td>\n",
       "      <td>2019.0</td>\n",
       "      <td>14.667647</td>\n",
       "    </tr>\n",
       "    <tr>\n",
       "      <th>Port Harcourt</th>\n",
       "      <td>20379.248780</td>\n",
       "      <td>5.582317</td>\n",
       "      <td>5778.852256</td>\n",
       "      <td>121355.897378</td>\n",
       "      <td>115577.045122</td>\n",
       "      <td>4.761905</td>\n",
       "      <td>5778.852256</td>\n",
       "      <td>7.072866</td>\n",
       "      <td>15.109756</td>\n",
       "      <td>1.951220</td>\n",
       "      <td>2019.0</td>\n",
       "      <td>14.920732</td>\n",
       "    </tr>\n",
       "  </tbody>\n",
       "</table>\n",
       "</div>"
      ],
      "text/plain": [
       "                 Unit price  Quantity       Tax 5%          Total  \\\n",
       "City                                                                \n",
       "Abuja          20037.339759  5.481928  5483.528675  115154.102169   \n",
       "Lagos          19721.107059  5.467647  5354.640529  112447.451118   \n",
       "Port Harcourt  20379.248780  5.582317  5778.852256  121355.897378   \n",
       "\n",
       "                        cogs  gross margin percentage  gross income    Rating  \\\n",
       "City                                                                            \n",
       "Abuja          109670.573494                 4.761905   5483.528675  6.818072   \n",
       "Lagos          107092.810588                 4.761905   5354.640529  7.027059   \n",
       "Port Harcourt  115577.045122                 4.761905   5778.852256  7.072866   \n",
       "\n",
       "                     Day     Month    Year       Hour  \n",
       "City                                                   \n",
       "Abuja          15.265060  2.003012  2019.0  15.147590  \n",
       "Lagos          15.388235  2.023529  2019.0  14.667647  \n",
       "Port Harcourt  15.109756  1.951220  2019.0  14.920732  "
      ]
     },
     "execution_count": 39,
     "metadata": {},
     "output_type": "execute_result"
    }
   ],
   "source": [
    "# sum by city_grp\n",
    "city_grp.mean()"
   ]
  },
  {
   "cell_type": "markdown",
   "metadata": {},
   "source": [
    "#### To-Do - Using the groupby object, display a table that shows the gross income of each city, and determine the city with the highest total gross income."
   ]
  },
  {
   "cell_type": "markdown",
   "metadata": {},
   "source": [
    "* Gross income by each city"
   ]
  },
  {
   "cell_type": "code",
   "execution_count": 40,
   "metadata": {},
   "outputs": [
    {
     "data": {
      "text/html": [
       "<div>\n",
       "<style scoped>\n",
       "    .dataframe tbody tr th:only-of-type {\n",
       "        vertical-align: middle;\n",
       "    }\n",
       "\n",
       "    .dataframe tbody tr th {\n",
       "        vertical-align: top;\n",
       "    }\n",
       "\n",
       "    .dataframe thead th {\n",
       "        text-align: right;\n",
       "    }\n",
       "</style>\n",
       "<table border=\"1\" class=\"dataframe\">\n",
       "  <thead>\n",
       "    <tr style=\"text-align: right;\">\n",
       "      <th></th>\n",
       "      <th>gross income</th>\n",
       "    </tr>\n",
       "  </thead>\n",
       "  <tbody>\n",
       "    <tr>\n",
       "      <th>0</th>\n",
       "      <td>2961.36</td>\n",
       "    </tr>\n",
       "    <tr>\n",
       "      <th>1</th>\n",
       "      <td>1042.56</td>\n",
       "    </tr>\n",
       "    <tr>\n",
       "      <th>2</th>\n",
       "      <td>1836.72</td>\n",
       "    </tr>\n",
       "    <tr>\n",
       "      <th>3</th>\n",
       "      <td>10121.76</td>\n",
       "    </tr>\n",
       "    <tr>\n",
       "      <th>4</th>\n",
       "      <td>1450.80</td>\n",
       "    </tr>\n",
       "    <tr>\n",
       "      <th>...</th>\n",
       "      <td>...</td>\n",
       "    </tr>\n",
       "    <tr>\n",
       "      <th>2983</th>\n",
       "      <td>8928.00</td>\n",
       "    </tr>\n",
       "    <tr>\n",
       "      <th>2984</th>\n",
       "      <td>10853.28</td>\n",
       "    </tr>\n",
       "    <tr>\n",
       "      <th>2985</th>\n",
       "      <td>13788.00</td>\n",
       "    </tr>\n",
       "    <tr>\n",
       "      <th>2986</th>\n",
       "      <td>3148.20</td>\n",
       "    </tr>\n",
       "    <tr>\n",
       "      <th>2987</th>\n",
       "      <td>17528.40</td>\n",
       "    </tr>\n",
       "  </tbody>\n",
       "</table>\n",
       "<p>2988 rows × 1 columns</p>\n",
       "</div>"
      ],
      "text/plain": [
       "      gross income\n",
       "0          2961.36\n",
       "1          1042.56\n",
       "2          1836.72\n",
       "3         10121.76\n",
       "4          1450.80\n",
       "...            ...\n",
       "2983       8928.00\n",
       "2984      10853.28\n",
       "2985      13788.00\n",
       "2986       3148.20\n",
       "2987      17528.40\n",
       "\n",
       "[2988 rows x 1 columns]"
      ]
     },
     "execution_count": 40,
     "metadata": {},
     "output_type": "execute_result"
    }
   ],
   "source": [
    "# Gross income of Abuja\n",
    "city_grp.get_group('Abuja')['gross income'].to_frame()"
   ]
  },
  {
   "cell_type": "code",
   "execution_count": 41,
   "metadata": {},
   "outputs": [
    {
     "data": {
      "text/html": [
       "<div>\n",
       "<style scoped>\n",
       "    .dataframe tbody tr th:only-of-type {\n",
       "        vertical-align: middle;\n",
       "    }\n",
       "\n",
       "    .dataframe tbody tr th {\n",
       "        vertical-align: top;\n",
       "    }\n",
       "\n",
       "    .dataframe thead th {\n",
       "        text-align: right;\n",
       "    }\n",
       "</style>\n",
       "<table border=\"1\" class=\"dataframe\">\n",
       "  <thead>\n",
       "    <tr style=\"text-align: right;\">\n",
       "      <th></th>\n",
       "      <th>gross income</th>\n",
       "    </tr>\n",
       "  </thead>\n",
       "  <tbody>\n",
       "    <tr>\n",
       "      <th>2988</th>\n",
       "      <td>9410.94</td>\n",
       "    </tr>\n",
       "    <tr>\n",
       "      <th>2989</th>\n",
       "      <td>5837.58</td>\n",
       "    </tr>\n",
       "    <tr>\n",
       "      <th>2990</th>\n",
       "      <td>8383.68</td>\n",
       "    </tr>\n",
       "    <tr>\n",
       "      <th>2991</th>\n",
       "      <td>10875.06</td>\n",
       "    </tr>\n",
       "    <tr>\n",
       "      <th>2992</th>\n",
       "      <td>7434.72</td>\n",
       "    </tr>\n",
       "    <tr>\n",
       "      <th>...</th>\n",
       "      <td>...</td>\n",
       "    </tr>\n",
       "    <tr>\n",
       "      <th>8667</th>\n",
       "      <td>5090.40</td>\n",
       "    </tr>\n",
       "    <tr>\n",
       "      <th>8668</th>\n",
       "      <td>2089.08</td>\n",
       "    </tr>\n",
       "    <tr>\n",
       "      <th>8669</th>\n",
       "      <td>573.12</td>\n",
       "    </tr>\n",
       "    <tr>\n",
       "      <th>8670</th>\n",
       "      <td>1184.76</td>\n",
       "    </tr>\n",
       "    <tr>\n",
       "      <th>8671</th>\n",
       "      <td>11130.84</td>\n",
       "    </tr>\n",
       "  </tbody>\n",
       "</table>\n",
       "<p>3060 rows × 1 columns</p>\n",
       "</div>"
      ],
      "text/plain": [
       "      gross income\n",
       "2988       9410.94\n",
       "2989       5837.58\n",
       "2990       8383.68\n",
       "2991      10875.06\n",
       "2992       7434.72\n",
       "...            ...\n",
       "8667       5090.40\n",
       "8668       2089.08\n",
       "8669        573.12\n",
       "8670       1184.76\n",
       "8671      11130.84\n",
       "\n",
       "[3060 rows x 1 columns]"
      ]
     },
     "execution_count": 41,
     "metadata": {},
     "output_type": "execute_result"
    }
   ],
   "source": [
    "# Gross income of Lagos\n",
    "city_grp.get_group('Lagos')['gross income'].to_frame()"
   ]
  },
  {
   "cell_type": "code",
   "execution_count": 42,
   "metadata": {},
   "outputs": [
    {
     "data": {
      "text/html": [
       "<div>\n",
       "<style scoped>\n",
       "    .dataframe tbody tr th:only-of-type {\n",
       "        vertical-align: middle;\n",
       "    }\n",
       "\n",
       "    .dataframe tbody tr th {\n",
       "        vertical-align: top;\n",
       "    }\n",
       "\n",
       "    .dataframe thead th {\n",
       "        text-align: right;\n",
       "    }\n",
       "</style>\n",
       "<table border=\"1\" class=\"dataframe\">\n",
       "  <thead>\n",
       "    <tr style=\"text-align: right;\">\n",
       "      <th></th>\n",
       "      <th>gross income</th>\n",
       "    </tr>\n",
       "  </thead>\n",
       "  <tbody>\n",
       "    <tr>\n",
       "      <th>3328</th>\n",
       "      <td>1375.20</td>\n",
       "    </tr>\n",
       "    <tr>\n",
       "      <th>3329</th>\n",
       "      <td>10759.14</td>\n",
       "    </tr>\n",
       "    <tr>\n",
       "      <th>3330</th>\n",
       "      <td>13240.80</td>\n",
       "    </tr>\n",
       "    <tr>\n",
       "      <th>3331</th>\n",
       "      <td>7743.60</td>\n",
       "    </tr>\n",
       "    <tr>\n",
       "      <th>3332</th>\n",
       "      <td>7158.24</td>\n",
       "    </tr>\n",
       "    <tr>\n",
       "      <th>...</th>\n",
       "      <td>...</td>\n",
       "    </tr>\n",
       "    <tr>\n",
       "      <th>8995</th>\n",
       "      <td>12594.96</td>\n",
       "    </tr>\n",
       "    <tr>\n",
       "      <th>8996</th>\n",
       "      <td>12142.62</td>\n",
       "    </tr>\n",
       "    <tr>\n",
       "      <th>8997</th>\n",
       "      <td>14821.20</td>\n",
       "    </tr>\n",
       "    <tr>\n",
       "      <th>8998</th>\n",
       "      <td>1097.10</td>\n",
       "    </tr>\n",
       "    <tr>\n",
       "      <th>8999</th>\n",
       "      <td>726.30</td>\n",
       "    </tr>\n",
       "  </tbody>\n",
       "</table>\n",
       "<p>2952 rows × 1 columns</p>\n",
       "</div>"
      ],
      "text/plain": [
       "      gross income\n",
       "3328       1375.20\n",
       "3329      10759.14\n",
       "3330      13240.80\n",
       "3331       7743.60\n",
       "3332       7158.24\n",
       "...            ...\n",
       "8995      12594.96\n",
       "8996      12142.62\n",
       "8997      14821.20\n",
       "8998       1097.10\n",
       "8999        726.30\n",
       "\n",
       "[2952 rows x 1 columns]"
      ]
     },
     "execution_count": 42,
     "metadata": {},
     "output_type": "execute_result"
    }
   ],
   "source": [
    "# Gross income of Port Harcourt\n",
    "city_grp.get_group('Port Harcourt')['gross income'].to_frame()"
   ]
  },
  {
   "cell_type": "code",
   "execution_count": 43,
   "metadata": {},
   "outputs": [
    {
     "data": {
      "text/html": [
       "<div>\n",
       "<style scoped>\n",
       "    .dataframe tbody tr th:only-of-type {\n",
       "        vertical-align: middle;\n",
       "    }\n",
       "\n",
       "    .dataframe tbody tr th {\n",
       "        vertical-align: top;\n",
       "    }\n",
       "\n",
       "    .dataframe thead th {\n",
       "        text-align: right;\n",
       "    }\n",
       "</style>\n",
       "<table border=\"1\" class=\"dataframe\">\n",
       "  <thead>\n",
       "    <tr style=\"text-align: right;\">\n",
       "      <th></th>\n",
       "      <th>gross income</th>\n",
       "    </tr>\n",
       "    <tr>\n",
       "      <th>City</th>\n",
       "      <th></th>\n",
       "    </tr>\n",
       "  </thead>\n",
       "  <tbody>\n",
       "    <tr>\n",
       "      <th>Abuja</th>\n",
       "      <td>16384783.68</td>\n",
       "    </tr>\n",
       "    <tr>\n",
       "      <th>Lagos</th>\n",
       "      <td>16385200.02</td>\n",
       "    </tr>\n",
       "    <tr>\n",
       "      <th>Port Harcourt</th>\n",
       "      <td>17059171.86</td>\n",
       "    </tr>\n",
       "  </tbody>\n",
       "</table>\n",
       "</div>"
      ],
      "text/plain": [
       "               gross income\n",
       "City                       \n",
       "Abuja           16384783.68\n",
       "Lagos           16385200.02\n",
       "Port Harcourt   17059171.86"
      ]
     },
     "execution_count": 43,
     "metadata": {},
     "output_type": "execute_result"
    }
   ],
   "source": [
    "# Total Gross income by city\n",
    "city_grp['gross income'].sum().to_frame()"
   ]
  },
  {
   "cell_type": "code",
   "execution_count": 44,
   "metadata": {},
   "outputs": [
    {
     "name": "stdout",
     "output_type": "stream",
     "text": [
      "The city with the highest total gross income is Port Harcourt, having a total gross income of #17059171.86, with a difference of #674388.18 to the city with the lowest gross income, Abuja.\n"
     ]
    }
   ],
   "source": [
    "# city with the highest total Gross income\n",
    "print('The city with the highest total gross income is {}, having a total gross income of #{},\\\n",
    " with a difference of #{} to the city with the lowest gross income, {}.'\n",
    "      .format(city_grp['gross income'].sum().idxmax(), city_grp['gross income'].sum().max(),\n",
    "round(city_grp['gross income'].sum().max() - city_grp['gross income'].sum().min(), 2), city_grp['gross income'].sum().idxmin()))"
   ]
  },
  {
   "cell_type": "markdown",
   "metadata": {},
   "source": [
    "* Unit price by each city"
   ]
  },
  {
   "cell_type": "code",
   "execution_count": 45,
   "metadata": {},
   "outputs": [
    {
     "data": {
      "text/html": [
       "<div>\n",
       "<style scoped>\n",
       "    .dataframe tbody tr th:only-of-type {\n",
       "        vertical-align: middle;\n",
       "    }\n",
       "\n",
       "    .dataframe tbody tr th {\n",
       "        vertical-align: top;\n",
       "    }\n",
       "\n",
       "    .dataframe thead th {\n",
       "        text-align: right;\n",
       "    }\n",
       "</style>\n",
       "<table border=\"1\" class=\"dataframe\">\n",
       "  <thead>\n",
       "    <tr style=\"text-align: right;\">\n",
       "      <th></th>\n",
       "      <th>Unit price</th>\n",
       "    </tr>\n",
       "  </thead>\n",
       "  <tbody>\n",
       "    <tr>\n",
       "      <th>0</th>\n",
       "      <td>19742.4</td>\n",
       "    </tr>\n",
       "    <tr>\n",
       "      <th>1</th>\n",
       "      <td>5212.8</td>\n",
       "    </tr>\n",
       "    <tr>\n",
       "      <th>2</th>\n",
       "      <td>9183.6</td>\n",
       "    </tr>\n",
       "    <tr>\n",
       "      <th>3</th>\n",
       "      <td>33739.2</td>\n",
       "    </tr>\n",
       "    <tr>\n",
       "      <th>4</th>\n",
       "      <td>14508.0</td>\n",
       "    </tr>\n",
       "    <tr>\n",
       "      <th>...</th>\n",
       "      <td>...</td>\n",
       "    </tr>\n",
       "    <tr>\n",
       "      <th>2983</th>\n",
       "      <td>22320.0</td>\n",
       "    </tr>\n",
       "    <tr>\n",
       "      <th>2984</th>\n",
       "      <td>27133.2</td>\n",
       "    </tr>\n",
       "    <tr>\n",
       "      <th>2985</th>\n",
       "      <td>27576.0</td>\n",
       "    </tr>\n",
       "    <tr>\n",
       "      <th>2986</th>\n",
       "      <td>6296.4</td>\n",
       "    </tr>\n",
       "    <tr>\n",
       "      <th>2987</th>\n",
       "      <td>35056.8</td>\n",
       "    </tr>\n",
       "  </tbody>\n",
       "</table>\n",
       "<p>2988 rows × 1 columns</p>\n",
       "</div>"
      ],
      "text/plain": [
       "      Unit price\n",
       "0        19742.4\n",
       "1         5212.8\n",
       "2         9183.6\n",
       "3        33739.2\n",
       "4        14508.0\n",
       "...          ...\n",
       "2983     22320.0\n",
       "2984     27133.2\n",
       "2985     27576.0\n",
       "2986      6296.4\n",
       "2987     35056.8\n",
       "\n",
       "[2988 rows x 1 columns]"
      ]
     },
     "execution_count": 45,
     "metadata": {},
     "output_type": "execute_result"
    }
   ],
   "source": [
    "# Unit price of Abuja\n",
    "city_grp.get_group('Abuja')['Unit price'].to_frame()"
   ]
  },
  {
   "cell_type": "code",
   "execution_count": 46,
   "metadata": {},
   "outputs": [
    {
     "data": {
      "text/html": [
       "<div>\n",
       "<style scoped>\n",
       "    .dataframe tbody tr th:only-of-type {\n",
       "        vertical-align: middle;\n",
       "    }\n",
       "\n",
       "    .dataframe tbody tr th {\n",
       "        vertical-align: top;\n",
       "    }\n",
       "\n",
       "    .dataframe thead th {\n",
       "        text-align: right;\n",
       "    }\n",
       "</style>\n",
       "<table border=\"1\" class=\"dataframe\">\n",
       "  <thead>\n",
       "    <tr style=\"text-align: right;\">\n",
       "      <th></th>\n",
       "      <th>Unit price</th>\n",
       "    </tr>\n",
       "  </thead>\n",
       "  <tbody>\n",
       "    <tr>\n",
       "      <th>2988</th>\n",
       "      <td>26888.4</td>\n",
       "    </tr>\n",
       "    <tr>\n",
       "      <th>2989</th>\n",
       "      <td>16678.8</td>\n",
       "    </tr>\n",
       "    <tr>\n",
       "      <th>2990</th>\n",
       "      <td>20959.2</td>\n",
       "    </tr>\n",
       "    <tr>\n",
       "      <th>2991</th>\n",
       "      <td>31071.6</td>\n",
       "    </tr>\n",
       "    <tr>\n",
       "      <th>2992</th>\n",
       "      <td>24782.4</td>\n",
       "    </tr>\n",
       "    <tr>\n",
       "      <th>...</th>\n",
       "      <td>...</td>\n",
       "    </tr>\n",
       "    <tr>\n",
       "      <th>8667</th>\n",
       "      <td>20361.6</td>\n",
       "    </tr>\n",
       "    <tr>\n",
       "      <th>8668</th>\n",
       "      <td>20890.8</td>\n",
       "    </tr>\n",
       "    <tr>\n",
       "      <th>8669</th>\n",
       "      <td>11462.4</td>\n",
       "    </tr>\n",
       "    <tr>\n",
       "      <th>8670</th>\n",
       "      <td>23695.2</td>\n",
       "    </tr>\n",
       "    <tr>\n",
       "      <th>8671</th>\n",
       "      <td>31802.4</td>\n",
       "    </tr>\n",
       "  </tbody>\n",
       "</table>\n",
       "<p>3060 rows × 1 columns</p>\n",
       "</div>"
      ],
      "text/plain": [
       "      Unit price\n",
       "2988     26888.4\n",
       "2989     16678.8\n",
       "2990     20959.2\n",
       "2991     31071.6\n",
       "2992     24782.4\n",
       "...          ...\n",
       "8667     20361.6\n",
       "8668     20890.8\n",
       "8669     11462.4\n",
       "8670     23695.2\n",
       "8671     31802.4\n",
       "\n",
       "[3060 rows x 1 columns]"
      ]
     },
     "execution_count": 46,
     "metadata": {},
     "output_type": "execute_result"
    }
   ],
   "source": [
    "# Unit price of Lagos\n",
    "city_grp.get_group('Lagos')['Unit price'].to_frame()"
   ]
  },
  {
   "cell_type": "code",
   "execution_count": 47,
   "metadata": {},
   "outputs": [
    {
     "data": {
      "text/html": [
       "<div>\n",
       "<style scoped>\n",
       "    .dataframe tbody tr th:only-of-type {\n",
       "        vertical-align: middle;\n",
       "    }\n",
       "\n",
       "    .dataframe tbody tr th {\n",
       "        vertical-align: top;\n",
       "    }\n",
       "\n",
       "    .dataframe thead th {\n",
       "        text-align: right;\n",
       "    }\n",
       "</style>\n",
       "<table border=\"1\" class=\"dataframe\">\n",
       "  <thead>\n",
       "    <tr style=\"text-align: right;\">\n",
       "      <th></th>\n",
       "      <th>Unit price</th>\n",
       "    </tr>\n",
       "  </thead>\n",
       "  <tbody>\n",
       "    <tr>\n",
       "      <th>3328</th>\n",
       "      <td>5500.8</td>\n",
       "    </tr>\n",
       "    <tr>\n",
       "      <th>3329</th>\n",
       "      <td>30740.4</td>\n",
       "    </tr>\n",
       "    <tr>\n",
       "      <th>3330</th>\n",
       "      <td>26481.6</td>\n",
       "    </tr>\n",
       "    <tr>\n",
       "      <th>3331</th>\n",
       "      <td>30974.4</td>\n",
       "    </tr>\n",
       "    <tr>\n",
       "      <th>3332</th>\n",
       "      <td>35791.2</td>\n",
       "    </tr>\n",
       "    <tr>\n",
       "      <th>...</th>\n",
       "      <td>...</td>\n",
       "    </tr>\n",
       "    <tr>\n",
       "      <th>8995</th>\n",
       "      <td>35985.6</td>\n",
       "    </tr>\n",
       "    <tr>\n",
       "      <th>8996</th>\n",
       "      <td>34693.2</td>\n",
       "    </tr>\n",
       "    <tr>\n",
       "      <th>8997</th>\n",
       "      <td>29642.4</td>\n",
       "    </tr>\n",
       "    <tr>\n",
       "      <th>8998</th>\n",
       "      <td>21942.0</td>\n",
       "    </tr>\n",
       "    <tr>\n",
       "      <th>8999</th>\n",
       "      <td>14526.0</td>\n",
       "    </tr>\n",
       "  </tbody>\n",
       "</table>\n",
       "<p>2952 rows × 1 columns</p>\n",
       "</div>"
      ],
      "text/plain": [
       "      Unit price\n",
       "3328      5500.8\n",
       "3329     30740.4\n",
       "3330     26481.6\n",
       "3331     30974.4\n",
       "3332     35791.2\n",
       "...          ...\n",
       "8995     35985.6\n",
       "8996     34693.2\n",
       "8997     29642.4\n",
       "8998     21942.0\n",
       "8999     14526.0\n",
       "\n",
       "[2952 rows x 1 columns]"
      ]
     },
     "execution_count": 47,
     "metadata": {},
     "output_type": "execute_result"
    }
   ],
   "source": [
    "# Unit price of Port Harcourt\n",
    "city_grp.get_group('Port Harcourt')['Unit price'].to_frame()"
   ]
  },
  {
   "cell_type": "code",
   "execution_count": 48,
   "metadata": {},
   "outputs": [
    {
     "data": {
      "text/html": [
       "<div>\n",
       "<style scoped>\n",
       "    .dataframe tbody tr th:only-of-type {\n",
       "        vertical-align: middle;\n",
       "    }\n",
       "\n",
       "    .dataframe tbody tr th {\n",
       "        vertical-align: top;\n",
       "    }\n",
       "\n",
       "    .dataframe thead th {\n",
       "        text-align: right;\n",
       "    }\n",
       "</style>\n",
       "<table border=\"1\" class=\"dataframe\">\n",
       "  <thead>\n",
       "    <tr style=\"text-align: right;\">\n",
       "      <th></th>\n",
       "      <th>Unit price</th>\n",
       "    </tr>\n",
       "    <tr>\n",
       "      <th>City</th>\n",
       "      <th></th>\n",
       "    </tr>\n",
       "  </thead>\n",
       "  <tbody>\n",
       "    <tr>\n",
       "      <th>Abuja</th>\n",
       "      <td>59871571.2</td>\n",
       "    </tr>\n",
       "    <tr>\n",
       "      <th>Lagos</th>\n",
       "      <td>60346587.6</td>\n",
       "    </tr>\n",
       "    <tr>\n",
       "      <th>Port Harcourt</th>\n",
       "      <td>60159542.4</td>\n",
       "    </tr>\n",
       "  </tbody>\n",
       "</table>\n",
       "</div>"
      ],
      "text/plain": [
       "               Unit price\n",
       "City                     \n",
       "Abuja          59871571.2\n",
       "Lagos          60346587.6\n",
       "Port Harcourt  60159542.4"
      ]
     },
     "execution_count": 48,
     "metadata": {},
     "output_type": "execute_result"
    }
   ],
   "source": [
    "# Total Unit price by city\n",
    "city_grp['Unit price'].sum().to_frame()"
   ]
  },
  {
   "cell_type": "code",
   "execution_count": 49,
   "metadata": {},
   "outputs": [
    {
     "name": "stdout",
     "output_type": "stream",
     "text": [
      "The city with the highest total Unit price is Lagos, having a total Unit price of #60346587.6, with a difference of #475016.4 to the city with the lowest Unit price, Abuja.\n"
     ]
    }
   ],
   "source": [
    "# city with the highest total Unit price\n",
    "print('The city with the highest total Unit price is {}, having a total Unit price of #{},\\\n",
    " with a difference of #{} to the city with the lowest Unit price, {}.'\n",
    "      .format(city_grp['Unit price'].sum().idxmax(), city_grp['Unit price'].sum().max(),\n",
    "round(city_grp['Unit price'].sum().max() - city_grp['Unit price'].sum().min(), 2), city_grp['Unit price'].sum().idxmin()))"
   ]
  },
  {
   "cell_type": "markdown",
   "metadata": {},
   "source": [
    "* Quantity by each city"
   ]
  },
  {
   "cell_type": "code",
   "execution_count": 50,
   "metadata": {},
   "outputs": [
    {
     "data": {
      "text/html": [
       "<div>\n",
       "<style scoped>\n",
       "    .dataframe tbody tr th:only-of-type {\n",
       "        vertical-align: middle;\n",
       "    }\n",
       "\n",
       "    .dataframe tbody tr th {\n",
       "        vertical-align: top;\n",
       "    }\n",
       "\n",
       "    .dataframe thead th {\n",
       "        text-align: right;\n",
       "    }\n",
       "</style>\n",
       "<table border=\"1\" class=\"dataframe\">\n",
       "  <thead>\n",
       "    <tr style=\"text-align: right;\">\n",
       "      <th></th>\n",
       "      <th>Quantity</th>\n",
       "    </tr>\n",
       "  </thead>\n",
       "  <tbody>\n",
       "    <tr>\n",
       "      <th>0</th>\n",
       "      <td>3</td>\n",
       "    </tr>\n",
       "    <tr>\n",
       "      <th>1</th>\n",
       "      <td>4</td>\n",
       "    </tr>\n",
       "    <tr>\n",
       "      <th>2</th>\n",
       "      <td>4</td>\n",
       "    </tr>\n",
       "    <tr>\n",
       "      <th>3</th>\n",
       "      <td>6</td>\n",
       "    </tr>\n",
       "    <tr>\n",
       "      <th>4</th>\n",
       "      <td>2</td>\n",
       "    </tr>\n",
       "    <tr>\n",
       "      <th>...</th>\n",
       "      <td>...</td>\n",
       "    </tr>\n",
       "    <tr>\n",
       "      <th>2983</th>\n",
       "      <td>8</td>\n",
       "    </tr>\n",
       "    <tr>\n",
       "      <th>2984</th>\n",
       "      <td>8</td>\n",
       "    </tr>\n",
       "    <tr>\n",
       "      <th>2985</th>\n",
       "      <td>10</td>\n",
       "    </tr>\n",
       "    <tr>\n",
       "      <th>2986</th>\n",
       "      <td>10</td>\n",
       "    </tr>\n",
       "    <tr>\n",
       "      <th>2987</th>\n",
       "      <td>10</td>\n",
       "    </tr>\n",
       "  </tbody>\n",
       "</table>\n",
       "<p>2988 rows × 1 columns</p>\n",
       "</div>"
      ],
      "text/plain": [
       "      Quantity\n",
       "0            3\n",
       "1            4\n",
       "2            4\n",
       "3            6\n",
       "4            2\n",
       "...        ...\n",
       "2983         8\n",
       "2984         8\n",
       "2985        10\n",
       "2986        10\n",
       "2987        10\n",
       "\n",
       "[2988 rows x 1 columns]"
      ]
     },
     "execution_count": 50,
     "metadata": {},
     "output_type": "execute_result"
    }
   ],
   "source": [
    "# Quantity of Abuja\n",
    "city_grp.get_group('Abuja')['Quantity'].to_frame()"
   ]
  },
  {
   "cell_type": "code",
   "execution_count": 51,
   "metadata": {},
   "outputs": [
    {
     "data": {
      "text/html": [
       "<div>\n",
       "<style scoped>\n",
       "    .dataframe tbody tr th:only-of-type {\n",
       "        vertical-align: middle;\n",
       "    }\n",
       "\n",
       "    .dataframe tbody tr th {\n",
       "        vertical-align: top;\n",
       "    }\n",
       "\n",
       "    .dataframe thead th {\n",
       "        text-align: right;\n",
       "    }\n",
       "</style>\n",
       "<table border=\"1\" class=\"dataframe\">\n",
       "  <thead>\n",
       "    <tr style=\"text-align: right;\">\n",
       "      <th></th>\n",
       "      <th>Quantity</th>\n",
       "    </tr>\n",
       "  </thead>\n",
       "  <tbody>\n",
       "    <tr>\n",
       "      <th>2988</th>\n",
       "      <td>7</td>\n",
       "    </tr>\n",
       "    <tr>\n",
       "      <th>2989</th>\n",
       "      <td>7</td>\n",
       "    </tr>\n",
       "    <tr>\n",
       "      <th>2990</th>\n",
       "      <td>8</td>\n",
       "    </tr>\n",
       "    <tr>\n",
       "      <th>2991</th>\n",
       "      <td>7</td>\n",
       "    </tr>\n",
       "    <tr>\n",
       "      <th>2992</th>\n",
       "      <td>6</td>\n",
       "    </tr>\n",
       "    <tr>\n",
       "      <th>...</th>\n",
       "      <td>...</td>\n",
       "    </tr>\n",
       "    <tr>\n",
       "      <th>8667</th>\n",
       "      <td>5</td>\n",
       "    </tr>\n",
       "    <tr>\n",
       "      <th>8668</th>\n",
       "      <td>2</td>\n",
       "    </tr>\n",
       "    <tr>\n",
       "      <th>8669</th>\n",
       "      <td>1</td>\n",
       "    </tr>\n",
       "    <tr>\n",
       "      <th>8670</th>\n",
       "      <td>1</td>\n",
       "    </tr>\n",
       "    <tr>\n",
       "      <th>8671</th>\n",
       "      <td>7</td>\n",
       "    </tr>\n",
       "  </tbody>\n",
       "</table>\n",
       "<p>3060 rows × 1 columns</p>\n",
       "</div>"
      ],
      "text/plain": [
       "      Quantity\n",
       "2988         7\n",
       "2989         7\n",
       "2990         8\n",
       "2991         7\n",
       "2992         6\n",
       "...        ...\n",
       "8667         5\n",
       "8668         2\n",
       "8669         1\n",
       "8670         1\n",
       "8671         7\n",
       "\n",
       "[3060 rows x 1 columns]"
      ]
     },
     "execution_count": 51,
     "metadata": {},
     "output_type": "execute_result"
    }
   ],
   "source": [
    "# Quantity of Lagos\n",
    "city_grp.get_group('Lagos')['Quantity'].to_frame()"
   ]
  },
  {
   "cell_type": "code",
   "execution_count": 52,
   "metadata": {},
   "outputs": [
    {
     "data": {
      "text/html": [
       "<div>\n",
       "<style scoped>\n",
       "    .dataframe tbody tr th:only-of-type {\n",
       "        vertical-align: middle;\n",
       "    }\n",
       "\n",
       "    .dataframe tbody tr th {\n",
       "        vertical-align: top;\n",
       "    }\n",
       "\n",
       "    .dataframe thead th {\n",
       "        text-align: right;\n",
       "    }\n",
       "</style>\n",
       "<table border=\"1\" class=\"dataframe\">\n",
       "  <thead>\n",
       "    <tr style=\"text-align: right;\">\n",
       "      <th></th>\n",
       "      <th>Quantity</th>\n",
       "    </tr>\n",
       "  </thead>\n",
       "  <tbody>\n",
       "    <tr>\n",
       "      <th>3328</th>\n",
       "      <td>5</td>\n",
       "    </tr>\n",
       "    <tr>\n",
       "      <th>3329</th>\n",
       "      <td>7</td>\n",
       "    </tr>\n",
       "    <tr>\n",
       "      <th>3330</th>\n",
       "      <td>10</td>\n",
       "    </tr>\n",
       "    <tr>\n",
       "      <th>3331</th>\n",
       "      <td>5</td>\n",
       "    </tr>\n",
       "    <tr>\n",
       "      <th>3332</th>\n",
       "      <td>4</td>\n",
       "    </tr>\n",
       "    <tr>\n",
       "      <th>...</th>\n",
       "      <td>...</td>\n",
       "    </tr>\n",
       "    <tr>\n",
       "      <th>8995</th>\n",
       "      <td>7</td>\n",
       "    </tr>\n",
       "    <tr>\n",
       "      <th>8996</th>\n",
       "      <td>7</td>\n",
       "    </tr>\n",
       "    <tr>\n",
       "      <th>8997</th>\n",
       "      <td>10</td>\n",
       "    </tr>\n",
       "    <tr>\n",
       "      <th>8998</th>\n",
       "      <td>1</td>\n",
       "    </tr>\n",
       "    <tr>\n",
       "      <th>8999</th>\n",
       "      <td>1</td>\n",
       "    </tr>\n",
       "  </tbody>\n",
       "</table>\n",
       "<p>2952 rows × 1 columns</p>\n",
       "</div>"
      ],
      "text/plain": [
       "      Quantity\n",
       "3328         5\n",
       "3329         7\n",
       "3330        10\n",
       "3331         5\n",
       "3332         4\n",
       "...        ...\n",
       "8995         7\n",
       "8996         7\n",
       "8997        10\n",
       "8998         1\n",
       "8999         1\n",
       "\n",
       "[2952 rows x 1 columns]"
      ]
     },
     "execution_count": 52,
     "metadata": {},
     "output_type": "execute_result"
    }
   ],
   "source": [
    "# Quantity of Port Harcourt\n",
    "city_grp.get_group('Port Harcourt')['Quantity'].to_frame()"
   ]
  },
  {
   "cell_type": "code",
   "execution_count": 53,
   "metadata": {},
   "outputs": [
    {
     "data": {
      "text/html": [
       "<div>\n",
       "<style scoped>\n",
       "    .dataframe tbody tr th:only-of-type {\n",
       "        vertical-align: middle;\n",
       "    }\n",
       "\n",
       "    .dataframe tbody tr th {\n",
       "        vertical-align: top;\n",
       "    }\n",
       "\n",
       "    .dataframe thead th {\n",
       "        text-align: right;\n",
       "    }\n",
       "</style>\n",
       "<table border=\"1\" class=\"dataframe\">\n",
       "  <thead>\n",
       "    <tr style=\"text-align: right;\">\n",
       "      <th></th>\n",
       "      <th>Quantity</th>\n",
       "    </tr>\n",
       "    <tr>\n",
       "      <th>City</th>\n",
       "      <th></th>\n",
       "    </tr>\n",
       "  </thead>\n",
       "  <tbody>\n",
       "    <tr>\n",
       "      <th>Abuja</th>\n",
       "      <td>16380</td>\n",
       "    </tr>\n",
       "    <tr>\n",
       "      <th>Lagos</th>\n",
       "      <td>16731</td>\n",
       "    </tr>\n",
       "    <tr>\n",
       "      <th>Port Harcourt</th>\n",
       "      <td>16479</td>\n",
       "    </tr>\n",
       "  </tbody>\n",
       "</table>\n",
       "</div>"
      ],
      "text/plain": [
       "               Quantity\n",
       "City                   \n",
       "Abuja             16380\n",
       "Lagos             16731\n",
       "Port Harcourt     16479"
      ]
     },
     "execution_count": 53,
     "metadata": {},
     "output_type": "execute_result"
    }
   ],
   "source": [
    "# Total Quantity by city\n",
    "city_grp['Quantity'].sum().to_frame()"
   ]
  },
  {
   "cell_type": "code",
   "execution_count": 54,
   "metadata": {},
   "outputs": [
    {
     "name": "stdout",
     "output_type": "stream",
     "text": [
      "The city with the highest total Quantity is Lagos, having a total Quantity of #16731, with a difference of #351 to the city with the lowest Quantity, Abuja.\n"
     ]
    }
   ],
   "source": [
    "# city with the highest total Unit price\n",
    "print('The city with the highest total Quantity is {}, having a total Quantity of #{},\\\n",
    " with a difference of #{} to the city with the lowest Quantity, {}.'\n",
    "      .format(city_grp['Quantity'].sum().idxmax(), city_grp['Quantity'].sum().max(),\n",
    "round(city_grp['Quantity'].sum().max() - city_grp['Quantity'].sum().min(), 2), city_grp['Quantity'].sum().idxmin()))"
   ]
  },
  {
   "cell_type": "markdown",
   "metadata": {},
   "source": [
    "## Step 6 - Data Visualization"
   ]
  },
  {
   "cell_type": "markdown",
   "metadata": {},
   "source": [
    "In this section, you will provide answer to some questions by generating charts and making use of different plotting styles. You will use the `Seaborn visualization` library to generate your plots. For all visualizations, include a chart title by using the seaborn `set_title` method"
   ]
  },
  {
   "cell_type": "markdown",
   "metadata": {},
   "source": [
    "#### To-Do- Using `countplot`, determine the branch with the highest sales record. Optional - You can extend this to determine - most used payment method, city with the most sales"
   ]
  },
  {
   "cell_type": "code",
   "execution_count": 55,
   "metadata": {},
   "outputs": [
    {
     "data": {
      "text/plain": [
       "<AxesSubplot:xlabel='Branch', ylabel='count'>"
      ]
     },
     "execution_count": 55,
     "metadata": {},
     "output_type": "execute_result"
    },
    {
     "data": {
      "image/png": "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\n",
      "text/plain": [
       "<Figure size 432x288 with 1 Axes>"
      ]
     },
     "metadata": {},
     "output_type": "display_data"
    }
   ],
   "source": [
    "# determine 'Branch' with highest sales record\n",
    "sns.countplot(x = 'Branch', data = df, order = df.Branch.value_counts().index[::-1],\n",
    "              palette = 'twilight', lw = 4, ec = 'skyblue', hatch = '*')"
   ]
  },
  {
   "cell_type": "code",
   "execution_count": 56,
   "metadata": {},
   "outputs": [
    {
     "data": {
      "text/plain": [
       "<AxesSubplot:xlabel='Branch', ylabel='count'>"
      ]
     },
     "execution_count": 56,
     "metadata": {},
     "output_type": "execute_result"
    },
    {
     "data": {
      "image/png": "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\n",
      "text/plain": [
       "<Figure size 432x288 with 1 Axes>"
      ]
     },
     "metadata": {},
     "output_type": "display_data"
    }
   ],
   "source": [
    "# determine most used 'Payment' method in each 'Branch' \n",
    "sns.countplot(x = 'Branch', data = df, hue = 'Payment', order = df.Branch.value_counts().index[::-1],\n",
    "              hue_order = df.Payment.value_counts().index[::-1],\n",
    "              edgecolor = sns.color_palette(\"dark\", 3))"
   ]
  },
  {
   "cell_type": "code",
   "execution_count": 57,
   "metadata": {},
   "outputs": [
    {
     "data": {
      "text/plain": [
       "<AxesSubplot:xlabel='Payment', ylabel='count'>"
      ]
     },
     "execution_count": 57,
     "metadata": {},
     "output_type": "execute_result"
    },
    {
     "data": {
      "image/png": "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\n",
      "text/plain": [
       "<Figure size 432x288 with 1 Axes>"
      ]
     },
     "metadata": {},
     "output_type": "display_data"
    }
   ],
   "source": [
    "# determine 'City' with the highest use of each 'Payment' method \n",
    "sns.countplot(x = 'Payment', data = df, hue = 'City', order = df.Payment.value_counts().index[::-1],\n",
    "              hue_order = df.City.value_counts().index[::-1],\n",
    "               palette = 'twilight', lw = 4, ec = 'silver', hatch = '-')"
   ]
  },
  {
   "cell_type": "markdown",
   "metadata": {},
   "source": [
    "#### Explore a countplot for the `Payment` and `City` Column"
   ]
  },
  {
   "cell_type": "markdown",
   "metadata": {},
   "source": [
    "#### To-Do - Determine the highest & lowest sold product line, using Countplot \n",
    "Count Plot Tips- Set the `Product line` column to y-axis to prevent congestion on the x-axis"
   ]
  },
  {
   "cell_type": "code",
   "execution_count": 58,
   "metadata": {},
   "outputs": [
    {
     "data": {
      "text/plain": [
       "<AxesSubplot:xlabel='count', ylabel='Product line'>"
      ]
     },
     "execution_count": 58,
     "metadata": {},
     "output_type": "execute_result"
    },
    {
     "data": {
      "image/png": "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\n",
      "text/plain": [
       "<Figure size 432x288 with 1 Axes>"
      ]
     },
     "metadata": {},
     "output_type": "display_data"
    }
   ],
   "source": [
    "# determine the highest & lowest sold product line\n",
    "sns.countplot(y = 'Product line', data = df, order = df['Product line'].value_counts().index[::-1],\n",
    "               color = 'skyblue', lw = 4, ec = 'black', hatch = '/')"
   ]
  },
  {
   "cell_type": "code",
   "execution_count": 59,
   "metadata": {},
   "outputs": [
    {
     "name": "stdout",
     "output_type": "stream",
     "text": [
      "The highest sold product line is Fashion accessories and the lowest sold product line is Health and beauty\n"
     ]
    }
   ],
   "source": [
    "print('The highest sold product line is {} and the lowest sold product line is {}\\\n",
    "'.format(df['Product line'].value_counts().index[0], df['Product line'].value_counts().index[-1]))"
   ]
  },
  {
   "cell_type": "markdown",
   "metadata": {},
   "source": [
    "#### To-Do -  Determine the Payment channel used by most customer to pay for each product line. Count Plot Tips- Set the \"product line\" column to y-axis to prevent congestion on the x-axis, and use the \"hue\" parameter for the \"Payment\" column. "
   ]
  },
  {
   "cell_type": "code",
   "execution_count": 60,
   "metadata": {},
   "outputs": [
    {
     "data": {
      "text/plain": [
       "<AxesSubplot:xlabel='count', ylabel='Product line'>"
      ]
     },
     "execution_count": 60,
     "metadata": {},
     "output_type": "execute_result"
    },
    {
     "data": {
      "image/png": "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\n",
      "text/plain": [
       "<Figure size 432x288 with 1 Axes>"
      ]
     },
     "metadata": {},
     "output_type": "display_data"
    }
   ],
   "source": [
    "# determine the Payment channel used by most customer to pay for each product line.\n",
    "sns.countplot(y = 'Product line', data = df, hue = 'Payment', order = df['Product line'].value_counts().index[::-1],\n",
    "              hue_order = df.Payment.value_counts().index[::-1],\n",
    "              palette = 'twilight',  lw = 2, ec = 'white', hatch = '/')"
   ]
  },
  {
   "cell_type": "code",
   "execution_count": 61,
   "metadata": {},
   "outputs": [
    {
     "name": "stdout",
     "output_type": "stream",
     "text": [
      "The payment channel used by most customer to pay for Health and beauty products is Epay.\n",
      "The payment channel used by most customer to pay for Home and lifestyle products is Epay.\n",
      "The payment channel used by most customer to pay for Sports and travel products is Cash.\n",
      "The payment channel used by most customer to pay for Electronic accessories products is Cash.\n",
      "The payment channel used by most customer to pay for Food and beverages products is Card.\n",
      "The payment channel used by most customer to pay for Fashion accessories products is Epay.\n"
     ]
    }
   ],
   "source": [
    "print('The payment channel used by most customer to pay for Health and beauty products is Epay.\\n\\\n",
    "The payment channel used by most customer to pay for Home and lifestyle products is Epay.\\n\\\n",
    "The payment channel used by most customer to pay for Sports and travel products is Cash.\\n\\\n",
    "The payment channel used by most customer to pay for Electronic accessories products is Cash.\\n\\\n",
    "The payment channel used by most customer to pay for Food and beverages products is Card.\\n\\\n",
    "The payment channel used by most customer to pay for Fashion accessories products is Epay.')"
   ]
  },
  {
   "cell_type": "markdown",
   "metadata": {},
   "source": [
    "#### To-Do- Determine the Payment channel for each branch.\n",
    "Count Plot Tips - Use the hue parameter for the \"branch\" column"
   ]
  },
  {
   "cell_type": "code",
   "execution_count": 62,
   "metadata": {},
   "outputs": [
    {
     "data": {
      "text/plain": [
       "<AxesSubplot:xlabel='count', ylabel='Payment'>"
      ]
     },
     "execution_count": 62,
     "metadata": {},
     "output_type": "execute_result"
    },
    {
     "data": {
      "image/png": "iVBORw0KGgoAAAANSUhEUgAAAcIAAAEfCAYAAADSuMa0AAAAOXRFWHRTb2Z0d2FyZQBNYXRwbG90bGliIHZlcnNpb24zLjQuMywgaHR0cHM6Ly9tYXRwbG90bGliLm9yZy/MnkTPAAAACXBIWXMAAAsTAAALEwEAmpwYAABCS0lEQVR4nO2deVjUVfv/3zOALKIOiw6CIrELiKZPYmpqaqaZW5qgvyctNRIrnyz3UswlzTXN1IyeXL+JW6ZZZqYS7lYaba48bMqiyCLrrL8/iJFhZpiFgQHm/bourss5c89rzoFT95wz53N/BPn5+UoQQgghVorQ0h0ghBBCLAkTISGEEKuGiZAQQohVw0RICCHEqmEiJIQQYtUwERJCCLFqmAgJIYRYNUyEhBBCrBomQgIAuHnzpqW7YFGsefwcu3VizWOvDhMhIYQQq4aJkBBCiFXDREgIIcSqYSIkhBBi1Qh49wlNrl69aukuEEKaGF26dLHI+xYXF0Mmk2m0FxYWomXLlhboUd3QvHlz2NramvRa015FCCGkwVNeXg4AaNWqlcZz9vb2cHBwqO8u1QlKpRL5+flo0aKFScmQiVALg1+eq7XdxkYIuVwBAAgP9sX8aePx4ad7cOXPW3rja2qjn376m65/+awpWuPrg7Kysia16tOFQCCASCRCYWGh1qSvDyZCI6g+yT/Y9H9IupasN15fG/300299/vpCIBBYugv1Qm3GycMyRlLXk5x++umnn9QvTIQ18O+RA/HvkQNVj/VN8urx9NNPP/2k4cNEWANVJ7ohk7w2/yHRTz/9TdtPDCcxMREikQi5ubn18n78jlAHPbuGoqS04sTV1PHD0K9H5xonedX4nl1Dce7XP+mnn376GyzTp0/H3r17VY9dXV3xxBNPYMmSJQgMDLRgz+ofXkeohQsXL0EoFKKZnfrnhNQ72Th0/Cy+S7gEABjStztGDuoFsbuLWrxEKoNCoUD2/TyD4umnn/6m6+/gJQZgmesICwoKdJ6ijI6ORk5ODj799FMAQGZmJhYuXIisrCxcunRJ62ukUins7OzqrL+VJCYmYtiwYbh9+zbc3NwMfl1N460Jbo1qQSAQaEzycokURcWlOHn+iqrt5PkrKCop1YhvZmcLgUBgcDz99NPfdP0NGXt7e4jFYojFYnTp0gXTpk3DjRs3UFpaitTUVIhEIuzfvx/Dhg2Dh4cHvvjiCzx48ACTJ09GSEgIPDw80KNHD+zatUvNO3ToULzzzjtYvHgxfH194e/vj/feew8KxaNTtxKJBIsXL0ZYWBjatGmDzp07Y8uWLWqeP/74AwMGDEDbtm3Rr1+/Oit2wkSohVupd9T+YHK5HLdS72DuqjiUS6Sq9nKJFHNXxuFW6h3I5XKj4umnn37r8DcWHj58iIMHDyIkJASOjo6q9vfffx9TpkzBhQsXMHToUJSVlaFz587Ys2cPLly4gKlTp2LGjBlISEhQ8+3btw82NjY4fvw4Vq1ahc2bN+PgwYOq52NiYrBnzx4sW7YMly5dwscff6yxmnv//fcRGxuLhIQEuLq6Ijo6Gkql+TcxmQi14ORgD6Hw0a/GxsYGt1PvQirVLFMklcqQnJYJGxsbg+Ppp59+6/E3ZE6cOAEvLy94eXmhffv2OHfuHOLi1JN3dHQ0RowYAR8fH3h5ecHT0xPTp09HeHg4fHx88PLLL2PYsGHYv3+/2uuCgoLw7rvvwt/fH6NGjcJTTz2lSpa3b9/GgQMHsGHDBpW7T58+GDdunJrj3XffRZ8+fRAYGIjZs2fjxo0buHv3rtl/Dzwso4XH2rcFAGTmVJxYau0qQpBve53xQY+1g0wmx70H+Xrjw4N96aeffivyN2R69uyJ9evXAwDy8vIQFxeHF154ASdOnFDFPP7442qvkcvlWLduHQ4ePIjMzExIJBJIJBL07t1bLS40NFTtsYeHB+7duwcASEpKglAoxFNPPVVj/6o6PDw8AAD37t2Dl5eXkSOtGSZCHazY8iUSLiZBAKBPRDiGDXhSZ6xMrsDquL164yuPWNNPP/3W42/IODk5wdfXV/W4S5cu8Pb2xrZt2/DSSy8BqChmXZWPP/4YGzduxIoVKxASEgJnZ2csXrxYleQqqX6oRiAQqLY1Dd3erOqorBxTF1ujPDWqBa9uz5lcY1BXW9XrjP68mUI//fRbif/YthUAGuap0YKCAsTHx6vaFAoFOnTogAkTJiA6OhqdO3fGqVOn1FaFkZGRcHFxUR1sUSqVeOqpp9CqVSscPXoUQMVhmZCQEKxatUr1upiYGDx48ADx8fG4ffs2unXrhv3792PgQM1rN7WdGk1NTdXaH0PHWxNcEWrB1BqDutoMudiWfvrpb5r+hkx5eTmys7MBAPn5+fjss89QVFSEwYMH63yNv78/vvrqK5w/fx5ubm7YunUr0tLS0KlTJ4Pf18/PD6NGjcL06dOxfPlydO7cGXfv3kVaWhqioqJqPS5jYSKsYxp7bUP66ae/6VaMOX36NIKCggAALVq0QEBAALZt24annnoKqampWl8za9YspKam4sUXX4SDgwPGjx+PF198EdeuXTPqvbds2YJly5Zh7ty5yM3NhaenJ6ZNm1brMZkCt0a14NFF96chAKqySrsOnagxrvI/orS7OUi6lqw3nn766W96/oa6NVpWVtZk7kdYCS+or0cMqUlY9ZNkeLBvrYr50k8//U3LTxoWTIRGUlljsKS0HD27hmqNqfofkbOTo954+umn33r8pOHBrVEtfH30e5NrEoYH+2Ll3GgAQFm5pFY1DOmnn/7G73ewbwaAW6P1galbo0yEWqirenaEEFKfiEQitGnTBk5OThrPMRE+glujhBBCrBpePqGFkYsOaW1/bWg4hjzhq9Z29FIyzv91F7NefAKr9l3GHyn39cZ/9m0S/fTTT3+d+8c901Wri6jDRGgE/p4ukMkVuF9YcWsV95aOGPwvH/QO9dKYhLriA7xc6KeffvrrxU8Mg4nQCOQKBTYc+hWJf2RAAGDq810wqJuP1kmoLb53WDsMeeIx+umnn/568RPD4GEZLfiMXKS13UYogFxR8esK83HHrBefwNoDP+O35Ht642tqo59++umvC/+PayfysIwBWOWK8Mknn8Tw4cMxb948o15XfRLq+iRWPV5fG/30009/ffgtdSLeEpeOGEODOTWak5ODOXPmoEuXLmjTpg06duyIMWPG4Pjx45bumhqGTkL66aef/sbmb0jUZ05oECvC1NRUDB48GM7OzoiNjUVYWBgUCgUSEhLw9ttv448//jDaqVAooFQq1e48bSxR/YIBAHtOVxST1TcJq8fTTz/99DdE/+CX52rURNVXYNzQGq1V400tNVcXOaEmGsSKcObMmVAqlTh16hRGjRqFgIAABAUFITo6GmfOnAEAbNy4ET179oSnpyc6duyIN998E/n5+SrH7t274eXlhePHj+PJJ59E69atcf36ddy7dw/jxo2Dh4cHwsLCsHPnToP7FdUvWDW5DPkkVjWefvrpp78h+6smKkPusmFsYqtNvVVDcoI5sfiKMC8vDydOnMB7770HZ2dnjedFIhEAQCgUYvny5fDx8UF6ejpmz56N2bNnY+vWrarYsrIyrF69GuvWrYO7uzvEYjEmTZqE9PR0HDp0CI6Ojpg/fz7S0tL09isiuC1Ky6UAgMmDO6FPp3Y1TsKq8RHBbXHxWib99NNPf4P0V9ZEBYCp44ehX4/ONSbBqvE9u4bi3K9/GuR3crSvMU4bhuYEc2LxU6O//PILBgwYgJ07d2LYsGEGv+7EiRMYP348srKyIBQKsXv3brz++us4ffq06ovZW7du4V//+heOHTuGHj16AADS0tLQpUsXzJo1S+dhmYuXf4ZQIICdrfq2alpOIb65eBvHf6m4T9egbh3wfIQfxC5OavFSmRwKpRLZeSUGxdNPP/3014U/PNBb7dRo5WEZiVSmqolaSeqdbJNrtNYUDxh3WMbUnAA04hJrSqVheTghIQEjR45ESEgI2rVrh5deegkSiUR1d2UAsLW1VbtL8vXr1yEUCtGtWzdVm7e3N9q2bavn3TQnYblUjqIyKU4nZajaTidloLhMqhFf8W+BwfH0008//XXh10X1JFgukaKouBQnz19RtZ08fwVFJaUQCARq8c3sbCEQCAyONxZDc4I5sXgi9PPzg0AgwI0bN3TGpKWlITIyEoGBgdi2bRtOnz6NjRs3AgAkEokqzt7eXu1wjKm/0OTMfCiqvFauUCA5Mx+xO85CIpWr2iVSORbuOIvkzHy1i1cNiaeffvrpr2u/LhRV4+Vy3Eq9g7mr4lAueZQ8yyVSzF0Zh1updyCXy42Kr+o3FkNygrmxeCJ0cXHBgAED8Nlnn6GoqEjj+fz8fFy5cgUSiQTLly9H9+7d4e/vj8zMmvfAASAoKAgKhQK//vqrqi09PV3vax3tbSEUCFSPbYRCJGcVQCrT/ONKZQqkZBfARig0OJ5++umn3xL+SoRV421scDv1LqRSmaZfKkNyWqbaAkNfvJODvZrfWAzJCebG4okQAFavXg2lUomnn34ahw4dws2bN3Hjxg18/vnn6N27N/z8/KBQKLBp0yakpKRg//792LJli15vQEAABg4ciBkzZuDSpUtISkrCtGnT4OjoWOPrfMQVe8xZecXIyiuGTK4wqAagIfFhPu70008//RbxVyUzJxeZObmQyeQI8m2vMy7osXaQyeQGxYcH++Kx9m1VflPRlxPMjcVPjQKAj48PEhISsGbNGsTGxiIzMxOurq4ICwvDunXrEBYWhhUrVmD9+vVYtmwZunfvjiVLluCVV17R6960aROmT5+O4cOHw83NDXPmzMH9+/ovRF174GeTawDqiq88Ak0//fTTX9/+6rRt46b6d5BvexzbtqLO4o1FX04wNxY/NdoQ8XvhfZNrAOpqq3od0N9pufTTTz/9de4//dHLWk+N1jf1VWKNtUbNiKk1AHW1GXIxLP30009/XfirUjUhNcWi26bSIL4jbMo09tqD9NNPf+P1E8Pg1qgWLLV9QAgh5kQkEvE2TAbAFSEhhBCrht8RamHD9Xydz/k622FQ24pPV8czS5BcpFm9wcvRFs95OuHbuyWwtxHojaeffvrpr8k/PUgEwPhDJwUFBVpXg0Qdbo1q4ceLv+BqXjn+LKioWhPaqhm6uNijpZ0QQlScyAIqvpBWACiUKlTxXo62GO1dUShWqlDqjaeffvrp1+cf4FGRzExJhLq2Crk1+ghujWqhXK7E9cJHpduuF0pQrlBCgEeTFv/8W1AlvvKT3tcZRbhbKtMbTz/99NNviJ/ULUyEWvgqowiyKutkmRL4Kr0IOeVytRqACqUSOeVyfJVRBLHDo+2O1GKZ3nj66aeffkP9pG5hItSCXMvEkyuB+2VytRqAQoEA98rk8Kgyye+UyvTG008//fQb4yd1Cw/LGIHYwQZypRJF0opits52QnQSNUNgCzu1SV5TvNjBRsNLP/3006/Pbw6aemUZU2EiNAIFgB8yS3DjoRQCAE+LHREmsse3d4s1Jrm2+IAWdgh30X3HZvrpp59+AsTExODLL79UPXZ1dcUTTzyBJUuWIDAw0Ozvx1OjWpgUf1pruxAVkxd4dAT6WGYJ0ks0J3n1+Jra6Keffvpr8tfm8omqpygrV4QjFx3SiK1as7Sy4s3aAz/jt+R7Wt2G1FA9tGikSf2OiYlBZmYmPv30UwBAZmYmFi5ciKysLFy6dEnn61hrtB6oPsm1bXdoi9fXRj/99NOvz1/XVE+C+sq+GVuT2Vjs7e0hFosBAGKxGNOmTUNUVBRKS0v13krPWHhYxkgMneT0008//Y2Nhlr79OHDhzh48CBCQkLMngQBrghrJMKt4mLTi7llAPRP8urx9NNPP/3m8pubqH7BAIA9p68B0J8Eq8cb6jeVEydOwMvLCwBQXFyMdu3aYe/evbVy6oIrwhqIcHdAhHvFZDTkk17VePrpp59+c/nrgqh+wapkZchKsGq8of7a0LNnTyQmJiIxMRE//vgjnnrqKbzwwgvIyMiolVcbXBHqwNfZDpJ/9rv7tHFEkI4j0NrifZ3tDKpJSD/99NNviN/cRAS3RWl5RR8mD+6EPp3a1ZgEq8ZHBLfFxWuZBvkd7e1M7qOTkxN8fX1Vj7t06QJvb29s27YN7733nslebfDUqBYu/3pFrQZgJbnlcpNrDNYUTz/99NOvzw+Y79SoVCaHna36NYtpOYX45uJtHP8lFQAwqFsHPB/hB7GLE4QCgSpeKquoiJOdV2JQvCn9jomJwYMHDxAfH69qUygU6NChAyZMmIBly5YZNF5D4daoFqrXAAQAmUJpco1BffH0008//TX5zU31JFgulaOoTIrTSY+2HU8nZaC4TApAPalV/FtgcLyplJeXIzs7G9nZ2bh+/Tpmz56NoqIiDB48uNbu6nBFqIVvz/+Mtg42EPxT/kihVCKrTI6v0os0yh/ZCIBR7Z3h4WCjKpdkSDz99NNPv6H+yteaa0VY35iyIqx6QX2LFi0QEBCA//znPxgxYoTO13FFaEaaCQWqSQiYXmNQVzz99NNPvzF+a2Pz5s3Iz89X/aSnp+PkyZM1JsHawMMyWnC3r1jWF0jkAEyrMagr3svRln766affKL+NmZJh1ZVZU7wfoakwEerg2N1ik2sM6oqvPGJNP/3002+Mf7Bnc51+Unv4HaEWLLWPTgghNcE71NcMvyMkhBBCTIBbo1po6PfOqgtu3ryJgIAAS3fDYljz+Dl26xw7eQRXhIQQQqwaJkJCCCFWDRMhIYQQq4aJkBBCiFXDwzKEEGIlNJYSa/UNV4SEEEIaJL/99htcXV3x7LPP1un7cEVICCFWxobr+Rpt/do4alS8+S2vHLceSrXedFhXfEJOqerx9CBRrfq5Y8cOTJ48GfHx8bh+/TqCgoJq5dMFV4SEEEJUNVELJHIUSOSQK5XoJGqmNQnqiq+p5qqxlJaWYt++fZg4cSKGDx+OnTt3ms1dHSZCQgghqpqo2//3EDv+9xB/F0ggFAi0JkFt8T9klkBhxv58/fXXaN++PcLCwhAZGYk9e/ZAKpWa8R0ewURICCEEB9KKcONhRaLxdLSFn7Mdvkov0poEq8crAdx4KMXBtCKz9WfHjh2IiooCAPTu3RuOjo749ttvzeavChMhIYQQ1Wqu8i4Y394tQXqJ9iRYNV5fmykkJyfj4sWLGDNmDABAIBBg7NixdbY9avRhmbNnzyIoKAju7u5an8/NzcW1a9fQq1evWneOEEJI/VE1CepaCdYHO3bsgFwuR1hYmKpNqay4UVJGRgbatWtn1vczekU4bNgwnDp1SufzCQkJGDZsWK06RQghpG6JcHNAhNuj2zDpS4LV4w3xm4JMJsOXX36J2NhYJCYmqn7OnDmD0NBQ7N692yRvTRi9IqzMyrqQSCQQChv3jqu13o/QWsddiTWPn2NvmohEItjZ2Wl9LsK9IlFdzC0zaCVYNd4QKuMBoKSkxOA+nzp1Crm5uZg4cSJcXV3Vnhs9ejQ+//xzzJo1y6x5xqBEWFhYiIKCAtXjBw8eID09XSMuPz8fBw4cQNu2bc3WQUIIIeal6vV9Vf892tvZqNfWBTt37sRTTz2lkQQBYOTIkVi0aBFOnz6N/v37m+09DbpD/YoVK7By5UqDhEqlEgsWLMDbb79d685ZigsXL0EoFKKZnfrnhNQ72Th0/Cy+S7gEABjStztGDuoFsbuLWrxEKoNCoUD2/TyD4umnn37668LfzN4Rnm09AAAtWzRHwYN7sASBgYGQSKTIKyxC4cNiVX9cWjrD1tYWAkHFgRgAcHJyMvl96vQO9f369cPChQuxYMECKJVKjBo1CgsXLlT7iY2NxYcffogffvihUSdBoOIPUn0SlkukKCouxcnzV1RtJ89fQVFJqUZ8MztbCAQCg+Ppp59++uvCn3X/gar9YXEJ2nt3gH9AAAIDA9V+/AMC0N67A4T2zSGwc4LAzglC++Zmi1colZArFHhYXKLWH7lCAVRJgpbCoBVhVVasWIHhw4cjJCSkrvpkcXbvO4SOft6qPWi5XI5ryemYuzIOUqn6/rmdnS1WzJ6CYN/2sLGxMTiefvrpp7+u/YtmTMK/Oj86eSkQCODl4Q4H+2aq5KNUKlFWLsGdrPsaZ0AsEd9gV4RVmTt3bpNOggDg5GCv9kWsjY0Nbqfe1ZiEACCVypCclqmahIbE008//fRbwq9UKiEUCtVWYAKBAOUSqdaDkEqlEuUSqVHxtfVbApOKblceiklJSUFeXp7WLL9x40azdNASPNa+4rBPZk4uAKC1qwhBvu11xgc91g4ymRz3HuTrjQ8P9qWffvrpt4jf0cEe9s0qTpFWJkpbWxs42DfT6XewbwalUgmZTK43vjZ+SyZDoxNhQkICXnrpJTx8+BAtWrSASCTSiLF0djcHK7Z8iYSLSRAA6BMRjmEDntQZK5MrsDpur9748GBfzJ82nn766ae/XvxV1yiODvZo26biJGbmvQco+uf7OufmThC1aK7Tr1QCWffz9MbX1t+2teYp0frC6O8Ie/XqhaKiIuzatQudOnWqq35ZFK9uz0EuVy8WZGMj1Gir6bnqbZWT/INN/4c/b6bQTz/99Ne5/703J+KpHt1USSoz5wFKyyXqGRIABALNtpqeq9ZmDn/AYxXVYkz9jlCpVKKwsLB+viO8desWYmJimmwSBKB1wumahIbEV53kSdeS6aeffvrrxf/V9wmQSaWPklRZufaEVFOhFD3xaknQXH4jUSqVyM/PR/PmuleeNWH01miHDh1QVmZYZQGiOcnpp59++uvLbyMUQqCU4vvT51Dwz/V75sSlpTPCAh/DDwnnkVdYuztPtGpe8T2ii4uLSa9v0aIFbG1Nu9e80a96++23sXz5ckycONHkDjd2/j1yIABg16ETNcZVTvK0uzkID/Y1eKLTTz/99JvL/8f1ZCRdS9Ybb6r/wq+/m8XfbdsKAICPj49BHnNi9NZodnY2XF1d0bVrV7z99ttYu3Yt1q9fr/azYcOGuuhrg+HfIweq/pi6qPpJLzzYV288/fTTTz/9lsHoRLho0SJcvXoV+fn5+OKLL7BkyRIsWrRI46ep0rNrKEpKy1FSWo6eXUO1xlSdJM5Ojnrj6aeffvrptxxGnxpNS0szKM7b29ukDjUEvj76vck1A8ODfbFybjQAoKxcUqsag/TTTz/91uL/zysvAAC6dOmC+sboFaG3t7dBP40ZU2sGVn5SWrD2C/x5M6XWNQbpp59++q3Fb0lMvqFTeno69uzZg48//hgZGRkAKm6oeO/ePchklruzsTmYuyoO5RKp6nG5RIq5K+NwK/UO5HK5ql0ul+NW6h3MXRWHIN/2qu2Cy0nX9cbTTz/99NP/yG9JTEqE8+fPx+OPP46YmBjExsbi9u3bACpuvti1a1d8+umnZu1kfWNsTb+Oft4aR6BNqTFIP/3002+tfkti9OUTGzZswObNmzF9+nT0798fI0eOVD3XsmVLDB06FN988w1ef/11c/azQaCtpt/QpyPQp3u41uuAjKkBSD/99NNvzf7K7x4tgdGJcPv27Rg7dizef/99PHjwQOP50NBQnDx50iyda2hUr+n3xsSReK5fhM6LYQ2tMUg//fTTT7/lMPrUqFgsxsqVKzFx4kQ8ePAAfn5+OHToEPr27QsA2LZtG+bMmYPs7Ow66XB9cPXqVUt3gRBCrJJGcWrU1dUVWVlZOp//888/0bZt21p1ihBCCKkvjN4aHTRoELZv344pU6Zo3G7pt99+w65duzBp0iSzddASjFx0SOdzYT7umPXiE1i17zL+SLlv9vemn3766a8L/6FFIwE8WnHdvHkTAQEBZu5h48ToFeH8+fMhFArRs2dPLFq0CAKBALt378akSZPwzDPPwNPTE7NmzaqLvtY7Uf2CEdUvWPVY3ySsHk8//fTT31D95BFGJ0KxWIzTp09j8ODBOHLkCJRKJfbt24cTJ04gMjISx48f13qz3sZI1YllyCex2kx0+umnn/769JNHmHTPCnd3d1WB7fv370OhUMDd3R1CocnX5zc4IoLborS84qLQyYM7oU+ndjVOwqrxEcFtcfFaJv30009/g/QTdYw+NdrYEIlE2L59O0aMGGHway5e/hlCgQB2tjZq7Wk5hfjm4m0c/yUVADCoWwc8H+EHsYuTWrxUJodCqUR2XolB8fTTTz/9de3nd4S6MWkJJ5VKceTIEXz88cdYsmQJFi9erPazZMkSg105OTmYM2cOunTpgjZt2qBjx44YM2YMjh8/bkrXzITmJCyXylFUJsXppAxV2+mkDBSXSTXiK/4tMDiefvrpp7+u/UQ3Rq8IL126hAkTJiAnJwdKpfaXCgQCrRfbVyc1NRWDBw+Gs7Mz5s+fj7CwMCgUCiQkJGDDhg34448/jOmaVkxZEX55+EcEtXeF8J9TsXKFAjcy8rBwx1lIZQq1WDtbIRZP6IXAdi6w+Wdr2JB4+umnn/769HNFqBujV4RvvfUW5HI5/vvf/yIpKQkpKSkaP//73/8Mcs2cORNKpRKnTp3CqFGjEBAQgKCgIERHR+PMmTMAgI0bN6Jnz57w9PREx44d8eabbyI/P1/lKCgoQHR0NPz9/SEWi9G5c2ds2rRJ7X3y8vIwceJEeHp6onPnzoiPj6+xX472tqpJCAA2QiGSswo0JiEASGUKpGQXqCahIfH0008//ZbwE+0YfVgmOTkZCxYsUKsxagp5eXk4ceIE3nvvPTg7O2s8X3nyVCgUYvny5fDx8UF6ejpmz56N2bNnY+vWrQCApUuX4q+//kJ8fDzc3d2RlpaG3NxcNdfKlSsRGxuL2NhY7Ny5E2+88QaefPJJnbeL8hG3AgBk5RUDANxbOiLAy0XnWPw9XSCTK3C/sFRvfJiPO/3000+/RfxEO0YnwqCgIEgkklq/cXJyMpRKJQIDA2uMmzZtmurfHTp0wOLFizF+/Hhs2bIFQqEQ6enpCA8PR7du3VQx1YmMjERkZCQA4N1338WWLVtw/vz5Gu+buPbAz0j8IwMCAL3D2mHIE4/pjJUrFNhw6Fe98ZVHoOmnn37669tPdGP0d4QnTpzAf/7zHxw5cgS+vr4mv/HPP/+MgQMHYufOnRg2bJjOuISEBKxbtw43btxAYWEh5HI5SktL8ffff6Nt27b44YcfMHHiRDz22GN4+umnMXjwYPTu3Vv1epFIhLi4OIwZM0bVFhYWhqlTp+KNN97Q+p5+L7wPuUL912IjFGi01fRc9baq1wH9nZZLP/3001+v/qUvV/x/kd8RamL0inDgwIFYunQpnnzySURERMDT01PtHlNAxWGZjRs31ujx8/ODQCDAjRs3dMakpaUhMjISEyZMwPz58+Hq6orffvsNkydPVq1Kn3nmGfz+++/44YcfkJCQgMjISIwYMULte0I7OzuN/uk66ANA64TTNQkNiTfkYlj66aef/rr0E90YnQhPnz6N119/HRKJBImJibC3t9eIMSQRuri4YMCAAfjss8/w2muvaXxPmJ+fjytXrkAikWD58uWqZHvs2DENl5ubG6KiohAVFYVnnnkGkydPxrp167T2rb5pyLUH6aeffuvxV64IiSZGnxqdN28e3N3dcfToUWRnZyMrK0vjJzPTsKoGq1evhlKpxNNPP41Dhw7h5s2buHHjBj7//HP07t0bfn5+UCgU2LRpE1JSUrB//35s2bJFzbFs2TJ88803uH37Nq5fv44jR47Ax8enTpOgoaWMKidh+r2HCPNxp59++ulv8H5rxOhEmJKSgtdffx09e/ZEs2bNavXmPj4+SEhIQL9+/RAbG4tevXph+PDh+O6777Bu3TqEhYVhxYoV2LRpE3r06IEdO3ZoXKxvb2+PpUuXonfv3nj22WdRVFSEPXv21Kpf+jBkIlb9JBbm416rYrv0008//fXlt0aMToShoaEGXSxvKB4eHli1ahV+++035OTk4Nq1a9i/fz+eeeYZAMDUqVPx999/IysrC4cPH8aoUaOQn5+vOh06c+ZMXLhwAZmZmUhJScG+ffsQFBSk8ufn52tcTP/777/jzTffNKm/lTX9SsuliAjWft/FqpOwuYOd3nj66aef/rr2E90YfWr0woULmDRpEv773/+iR48eddUvi3L4+E8m1/SrejqrXCqrVY1B+umnn35z+SvhqVFNjF4RrlmzBs2bN8dzzz2H7t2744UXXsCLL76o9jN27Ni66Gu9YWpNv8pPYkt2n8ffabl64+mnn37668tPdGN0Irx27RrKy8vRrl07lJWV4datW7h+/brGT2MmdsdZSKRy1WOJVI6FO84iOTMfcsWjskVyhQLJmfmI3XEWgV4uqu2IX25m642nn3766a9PP9FNk78NkylcvXrV0l0ghJA6gVujmhi9IlTwEwYhhJAmhNEX1IeEhGDMmDEYO3YswsPD66JPFmfD9Xyt7S96O+O3vHLceCiFAMDTYkeEiexxIK0Id0pleuMDWtgh3MUe+9OK6Keffvrr1f9mkEirl5iwNTpx4kQcP34c5eXlCA4ORlRUFMaMGQNPT8+66mO9Myn+tNZ2IYDK9bCXoy2e83TCscwSpJdoTsLq8TW10U8//fTXtX/6P4mQW6OaGL01un37dly/fh0fffQRXF1dsWjRInTq1AkjRozAnj17UFxcXBf9bBBUn4Tf3tU9CavG62ujn3766a8PP9GO0YkQAFq2bIkJEybgm2++we+//4733nsP9+7dw7Rp0xAYGIjo6GicPHmyxsLWjZWqk1DbdgT99NNPf2P1WysmJcKqeHl5YcaMGdi3bx9GjhyJkpIS7Nu3D2PGjEFoaCg+/vhjyGSN8w8W4eaACDcH1WN9k7B6PP30009/Q/WTRxh9WKYqDx8+xNdff429e/fi7NmzsLW1xfDhwzFu3Dg0a9YM27ZtQ2xsLK5du4ZPPvnEXH2uNyLcKybVxdwygz6JVY2nn3766W/IfvIIoxOhXC7HDz/8gL179+LYsWMoLS1Ft27dsHLlSowePRoikUgV279/fyxbtgxbtmxpdInQ19kOkn/u6dWnjSOCWtjVOAmrxvs62yG5qObafvTTTz/9lvITdYw+Nern54e8vDx4enpi7NixGDduXI0njw4cOIApU6YgLy+v1p2tLy7/egVCVNzluSq55XJczSvHnwUVNwUObdUMXVzs0dJOqBYvVyihAFAoVRgUTz/99NNf136eGtWN0d8RDhgwAAcPHsTvv/+OhQsX6v1Fjh49ulElQQAQQHMSyhRKlMuVuF4oUbVdL5SgXKHUiLcRCiAADI6nn3766a9rP9GN0Ylw69at6NevHwQCgf7gRkpOuVztxKtCqUROuRxfZRRBVmX9LFMCX6UXIae8ogq8MfH0008//fXpJ7qp1anRhw8f4s6dO0hPT9f4acw0EwrUEr1QIMC9MjnkWiaVXAncL5NDaEQ8/fTTT78l/EQ7Jp0a3bFjBzZs2IDk5GSdMea8eW99425fceuSAklFBXhnOyHEDrpvZyJ2sIFcqUSRVKE33svRln766affIn6iHaMT4c6dO/Gf//wH/fr1w/jx47FkyRJMmzYNDg4O2L17N8RiMaKjo+uir/XKsbvFGjUAdaEA8ENmid74yiPQ9NNPP/317Se6MfrUaM+ePeHu7o7Dhw/jwYMH8PPzw6FDh9C3b1/k5+ejb9++mDp1KmJiYuqqz3XOlPjTJtcA1NVWOcm/u1uCu6Uy+umnn/569Y/2dgbAU6PaMPo7wuTkZDz//PMVLxZWvFwqrbhmRSQSYcKECYiLizNjF+sfU2sA6mqrejFshpZJTj/99NNf136iG6MTYfPmzVUnmpydnWFjY4OsrCzV866urrh79675etjIaey1B+mnn/6m4Se6MToRBgQE4K+//gIA2NraolOnTtizZw+kUinKysoQHx+PDh06mL2jDQlDa/pVTsJciQLtnAz/OpZ++umn31J+a8ToRDh06FCcOHECZWUV9exmzpyJc+fOwcfHB/7+/rh48SJmzJhh9o42JCLcHVR1/XRRdc+/nZOt3nj66aef/obgt0YMToTl5eX46quvIJPJMHv2bOTn5wOoSIzffvstJkyYgJdffhlHjhxBZGRkXfXX4lTW9JMolPB1ttMaU3U7opmNQG88/fTTT39d+4luDDo1mp2djeeeew7/+9//oFQqIRAI4OTkhPj4ePTq1as++lmvXL161dJdIISQOoGnRjUxaEW4dOlSpKSkYNq0aYiPj8cHH3wAe3t7zJ49u677RwghhNQpBn2DevLkSYwbNw5Lly5VtbVp0wZTpkzBnTt34OXlVWcdtASVn5isCWv/dGjN4+fYrXPs5BEGrQizs7MRERGh1tajRw8olUpkZGTUSccIIYSQ+sCgRCiXy+HgoH7qqPJx5elRQgghpDFi8MUlKSkp+OWXX1SPCwsLAVRsLTg7O2vEd+vWzQzdI4QQQuoWgxPh8uXLsXz5co326gdmKk+VNua7TxBCCLEeDEqEn3zySV33gxBCCLEIBiXC8ePH13U/CCGEEItQqzvUE0IIIY0dJkJCCCFWDRMhIYQQq4aJkBBCiFXDREgIIcSqYSIkhBBi1Rh0GyZrg7dhIoQ0Fky9SQALjj+CK0JCCCFWjcEl1qyNFVu+RMLFJAgA9IkIx7ABT+KdZVu0xq59NwaHfzynNz482Bfzp42HqKUz/fTTT3+t/Me2rdD6fsR4uDWqBa9uz0EuV6i12dgINdpqeq56W+Uk/2DT/+HPmyn0008//bXyVyZCbo3WHq4ItaBtQuua5IbEV53kSdeSDXbQTz/99Ovzk9rD7wjrGEMmOf30009/XfiJYTARmsC/Rw7Ev0cO1BtXOcnT7uYgPNiXfvrpp7/e/MRwmAhNwJCJWPWTXniwr1ETl3766ae/Nn5iHEyERtKzayhKSstRUlqOnl1DtcZUneTOTo564+mnn376jfUT88FTo1r4+uj3OHT8LL5LuAQAGNK3O0YO6gWxuwuEQiGa2VWcMZJIZVAoFMi+n6eKDw/2xcq50QCAsnKJ3nj66aefflP8lfDUaO3hilALRcWlOHn+iurxyfNXUFRSCoFAoDYJm9nZQiAQqOIrP+ktWPsF/ryZojeefvrpp99UPzEfTIRamLsqDuUSqepxuUSKuSvjcCv1DuRyuapdLpfjVuodzF0VhyDf9qrtjstJ1/XG008//fTXxk/MBxOhFqRSmda25LRM2NjYqNpsbGxwO/UuOvp5axyBrimefvrpp7+2fmI+uM42gqDH2kEmk+Peg3wAQGtXEYY+HYE+3cO1XgekLT7Itz399NNPf639bdu46YwlxsFEaAQyuQKr4/aqagC+MXEknusXofNi2OrxlTUD6aeffvpr6//2i+U6Y4lx8NSoFjy6DNbaXrXeX+UX3x9+ugdX/rylN76mNvrpp59+Y/2Vp095arT2cEVoBNUnub6ySKbWLKWffvrp1+cn5oOHZYyksdcepJ9++puGn5gPJsIaqF7KSN8kN7b0Ef3000+/ufzEdJgIa6DqRDRkEtZmotNPP/3018ZPTIffEeqgsqYfAEwdPwz9enSucRJWje/ZNRTnfv2Tfvrpp79e/KR28NSoFq5evWrpLhBCiEUw9RRqY4Zbo4QQQqwabo1q4e+0XAS1d4VQIAAAyBUK3MjIw8IdZyGVqR9vtrMVYvGEXghs5wIbodDgePrpp5/+huTv6G29lWq4ItSCo72tapIAgI1QiOSsAo1JBQBSmQIp2QWqSWhIPP30009/Q/NbM1wRasFH3AoAkJVXDABwb+mIAC8XnfH+ni6QyRW4X1iqNz7Mx51++umnv9H4rQEmQh2sPfAzEv/IgABA77B2GPLEYzpj5QoFNhz6VW98mI87Zr34BP30009/o/FbAzw1qgW/F96HXKH+a7ERCjTaanquelvlJFy17zL+Tsuln3766W9Q/gMLRwDgqdF6JyYmBiKRSONn4EDDLzqtC7RNOF2T0JD4qpPwj5T79NNPP/2Nxm8NWHxrtF+/fvj000/V2po1a2ah3pif6pOQfvrpp7+p+JsKFj81am9vD7FYrPbj4lLxxa1IJMLWrVsxduxYtG3bFmFhYYiPj1d7/aJFi/Cvf/0LHh4e6NSpExYuXIiysjIAQGpqKlxdXXHlyhW112zfvh2+vr6QSCQm9TmqXzCi+gXrjauchOn3HiLMx51++umnv8H7rRGLJ0J9LF++HEOGDEFiYiJefvllTJ06VS2xOTk5YePGjbh48SLWrFmDgwcPYvXq1QCADh06oF+/fti1a5eac9euXYiMjDR55WnIRKz6SSzMx92giUs//fTTb2m/NWLxRHjixAl4eXmp/cTGxqqeHzZsGF555RX4+/tj5syZ6NOnDzZv3qx6fvbs2ejRowc6dOiAQYMG4e2338aBAwdUz0+cOBH79+9XrRKvX7+Oy5cv46WXXjKpvxHBbVFaLkVpuRQRwW21xlSdhM0d7PTG008//fQ3BL+1YtFTozExMcjIyMD69evV2lu1agU3NzeIRCJ8/PHHaklr6dKlOH78OH766ScAwNdff43NmzcjOTkZxcXFkMvlkMvluHfvHgBAKpUiJCQEH3zwAV588UUsWLAA586dw48//qizX4eP/4RvLt7G8V9SAQCDunXA8xF+ELs4QSgQwM7WpsItk0OhVCI7r0QVH+bjjqUv9wYAlEtleuPpp59++huC37tNSwA8NWoRnJyc4Ovrq/bj5mZYqZ/Lly9j0qRJ6N+/P/bs2YOffvoJ7777LqRSqSrGzs4OUVFR2LVrF2QyGeLj4/WuBovKpDidlKF6fDopA8VlUgCPJhWAf/4tUMVXfhJbsvs8/k7L1RtPP/30099w/NaLxROhPn7++WeNx0FBQQCACxcuoG3btpg9eza6du0KPz8/pKenazgmTpyIxMRExMXFoaioCC+88EKN7xm74ywkUrnqsUQqx8IdZ5GcmQ+54lHZIrlCgeTMfMTuOItALxfVdsQvN7P1xtNPP/30NyS/NWPxRFheXo7s7Gy1n/v3Hx3zPXLkCLZv347bt29j7dq1SEhIQExMDADA398fmZmZ2Lt3L1JSUvD555+rfT9Yib+/P3r06IGFCxdi+PDhaNmyZY19MramX1A7V40jyqbUAKSffvrpt5TfmrH4dYSnT59WrfAq8fT0xF9//QUAmDt3Lg4fPow5c+bA3d0dn3zyCbp27QoAGDJkCKZPn4558+ahrKwMTz/9NObPn4933nlH431eeuklnDt3zuRDMoD2mn6D/+WD3qFeWq/TMaYGIP3000+/Jf3WjEUT4ebNm9VOgGpDLBZrXeVVEhsbq3bKFAAmT56sEZednQ0/Pz/06tXLtM5Cs6bf1Oe7YFA3H50XqxpaA5B++umn39J+a6ZB1xoViUTYvn07RowYYbKjqKgIN2/exLhx4/DOO+/g1Vdf1fsan5GLtLZXrd9X+cX02gM/47fke3rja2qjn3766be0/9CikQB4arRJMmvWLDz77LOIiIjAK6+8UitX9Um4at9lnZOwary+Nvrpp59+S/utGYt/R1gT+fn5tXYYsv1qDI29NiD99NNPP1GnQW+NWoqrV69auguEEEL+oa63a5v81ighhBBSEw16a9RSbLieD19nOwxq6wQA+KtAgqAWdvj2bgnulMq0vqZq/PHMEiQX1VypgX766aef/pr904NENb6PueDWqBYu/3oFQlScsKpKbrkcV/PK8WdBxe2bQls1QxcXe7S0E6rFyxVKKAAUShUGxdNPP/3006/pd7OvKBHHrVELIIDmH1GmUKJcrsT1wkf3MLxeKEG5QqkRbyMUQAAYHE8//fTTT7+mv75gItRCTrkcSuWjP4JCqUROuRxfZRRBVuVvI1MCX6UXIae8oqq7MfH0008//fTX7K8vmAi10EwogEDw6BOKUCDAvTI5tH1AkSuB+2VyCI2Ip59++umn33h/XcHDMlpw/2dfukBSUaHd2U4IsYONznixgw3kSiWKpAq98V6OtvTTTz/99JvgryuYCHVw7G4xbjyUQgAgoIUdwl3sdcYqAPyQWaI33svRFs95OtFPP/3002+kvy7hqVEtTIk/jeo3JRECGm01PVe9rXKSfHe3BHdLZfTTTz/99OvxV14+UdenRrki1IK2P1hNd+vSF185SWq6joZ++umnn3798XUBD8vUMYZMEvrpp59++i0HE6EJRLg5IMLNQW9c5STJlSjQzsnwxTf99NNPP/31t2HJRGgCEe4OiHCv+Q9Zdc+8nZOt3nj66aeffvrV/fUFE6GR+DrbQaJQQqJQwtfZTmtM1e2CZjYCvfH0008//fRr+usLnhrVwo8XfzG55p6Xoy1GezsDAKQKZa1q9NFPP/30W7Pf7p9Y1hq1AKbW3Kv8JPN1RhHulspqXaOPfvrpp9+a/fUFE6EWTKmJJ3Z4tJxPLZaZXKOPfvrpp5/+ivj6golQC8bWxPOo8kesPEJsSo0++umnn376H8XXF7yg3gi01cTrJGqGQB03nTS2hh799NNPP/2P4usLJkIjUEC9Jt7TYkeEiezx7d1irReTVo83tuYe/fTTT781++sLnhrVwtWrVy3dBUIIIf/AU6OEEEJIHcIVIQEA3Lx5EwEBAZbuhsWw5vFz7By7tcMVISGEEKuGiZAQQohVw0RICCHEqmEiJIQQYtXwsAwhhBCrhitCQgghVg0TISGEEKuGiZAQQohVw0RICCHEqmEiJIQQYtUwEf5DXFwcwsPDIRaL0bdvX5w7d87SXaoVa9euxdNPP4327dvDz88PkZGR+Ouvv9RilEolli9fjuDgYHh4eGDo0KH4+++/1WLKy8sxa9Ys+Pr6wtPTE1FRUbhz5059DqXWrFmzBiKRCLNmzVK1NeWxZ2VlYerUqfDz84NYLEZERATOnDmjer4pj10ul2Pp0qWq/5bDw8OxdOlSyGSP7m7QVMZ/9uxZREVFoWPHjhCJRNi9e7fa8+YaZ35+PqKjo+Ht7Q1vb29ER0cjPz+/rodXrzARAjh48CDmzp2Ld955Bz/99BO6d++OF198Eenp6ZbumsmcOXMGkydPxvfff4/Dhw/D1tYWI0eORF5enipm/fr1+OSTT/Dhhx/i5MmTaN26NUaNGoWHDx+qYubNm4cjR47g888/x7fffouHDx8iMjIScnn93TSzNly+fBnbt29HaGioWntTHXt+fj6effZZKJVK7N27FxcvXsTKlSvRunVrVUxTHTsAfPTRR4iLi8OHH36IS5cuYcWKFfjss8+wdu1aVUxTGX9xcTFCQkKwYsUKODo6ajxvrnFOmTIFSUlJ2LdvH/bv34+kpCS89tpr9TLG+oLXEQIYMGAAQkNDsWHDBlVb165dMWLECMTGxlqwZ+ajqKgI3t7e2L17N4YMGQKlUong4GC8+uqrmDlzJgCgtLQUAQEBWLJkCV555RUUFBTA398fn3zyCcaOHQsAyMjIQKdOnbB//34MGDDAkkPSS0FBAfr27Yv169dj5cqVCAkJwapVq5r02BcvXoyzZ8/i+++/1/p8Ux47AERGRsLFxQVbtmxRtU2dOhV5eXmIj49vsuP38vLCypUr8f/+3/8DYL6/8/Xr1xEREYFjx46hR48eAIDz589jyJAhuHz5cpMp2m31K0KJRIKrV6+if//+au39+/fHxYsXLdQr81NUVASFQgGRSAQASE1NRXZ2ttq4HR0d0bNnT9W4r169CqlUqhbTrl07BAUFNYrfzVtvvYURI0agb9++au1NeexHjx5Ft27d8Morr8Df3x+9e/fG1q1boVRWfN5tymMHgB49euDMmTO4ceMGAODatWtITEzEM888A6Dpj78Sc43z0qVLcHZ2RkREhCqmR48eaN68eaP5XRiC1d+hPjc3F3K5XG3rCABat26NnJwcC/XK/MydOxedOnVC9+7dAQDZ2dkAoHXcmZmZAICcnBzY2NjAzc1NI6ah/262b9+O5ORkfPrppxrPNeWxp6Sk4PPPP8e0adPw1ltv4ffff8ecOXMAANHR0U167EDFh5+ioiJERETAxsYGMpkMM2fOxJQpUwA07b99Vcw1zpycHLi5uUEgEKieFwgEcHd3bzS/C0Ow+kRYSdU/NFCxtVC9rbEyf/58XLhwAceOHYONjY3ac6aMu6H/bm7evInFixfju+++Q7NmzXTGNcWxKxQKPP7446ot/c6dOyM5ORlxcXGIjo5WxTXFsQMV3/fv2bMHcXFxCA4Oxu+//465c+fC29sbEyZMUMU11fFXxxzj1BbfGH8XNWH1W6Nubm6wsbHR+HRz//59jU9TjZF58+bhwIEDOHz4MHx8fFTtYrEYAGocd5s2bSCXy5Gbm6szpiFy6dIl5Obm4sknn4Sbmxvc3Nxw9uxZxMXFwc3NDa6urgCa5tjFYjGCgoLU2gIDA5GRkaF6HmiaYweAhQsX4o033sDo0aMRGhqKqKgovP7661i3bh2Apj/+Ssw1zjZt2uD+/fuqrXWgIgnm5uY2mt+FIVh9ImzWrBm6dOmCU6dOqbWfOnVKbV+8MTJnzhzs378fhw8fRmBgoNpzHTp0gFgsVht3WVkZzp8/rxp3ly5dYGdnpxZz584d1RfoDZWhQ4fi3LlzSExMVP08/vjjGD16NBITE+Hv799kx96jRw/cunVLre3WrVto3749gKb9dweAkpISjV0PGxsbKBQKAE1//JWYa5zdu3dHUVERLl26pIq5dOkSiouLG83vwhC4NQrg9ddfx2uvvYZu3bohIiIC//3vf5GVlYVXXnnF0l0zmZkzZyI+Ph67du2CSCRSfWfQvHlzODs7QyAQICYmBmvWrEFAQAD8/f2xevVqNG/eHGPGjAEAtGrVCi+99BIWLlyI1q1bw8XFBe+++y5CQ0PRr18/C46uZkQikepQUCVOTk5wcXFBSEgIADTZsU+bNg2DBg3C6tWr8cILLyApKQlbt27FggULAKBJ/90BYPDgwfjoo4/QoUMHBAcHIykpCZ988gmioqIANK3xFxUVITk5GUDFlnhGRgaSkpLg4uKC9u3bm2WcQUFBGDhwIGbMmIH169dDqVRixowZePbZZ5vMiVGAl0+oiIuLw/r165GdnY2OHTvigw8+QK9evSzdLZOpnggqmTNnDubNmwegYotjxYoV2LZtG/Lz89GtWzesXr1alSyAik+RCxYswP79+1FWVoY+ffpgzZo1aNeuXX0Mw2wMHTpUdfkE0LTH/v3332Px4sW4desW2rVrh1dffRWvvfaa6judpjz2hw8fYtmyZfjmm29w//59iMVijB49GrNnz4aDgwOApjP+xMREDBs2TKN93Lhx2Lx5s9nGmZeXhzlz5uC7774DAAwZMgQrV67U+f+YxggTISGEEKvG6r8jJIQQYt0wERJCCLFqmAgJIYRYNUyEhBBCrBomQkIIIVYNEyEhhBCrhomQEEKIVcNESAipFVu3btW4OzohjQleUE8IqRVPPPEE2rRpg6NHj1q6K4SYBFeEhBBCrBomQkIaAVlZWXjrrbcQEhKCNm3aoFOnTpg+fToePnwIAEhPT8err74KX19fiMVi9O7dG19++aWaIzExESKRCImJiRp+kUiE5cuXqx4vX74cIpEIt2/fxowZM/DYY4/By8sLEydOxIMHD1RxnTp1ws2bN3H27FlVsfNOnTrV0W+BkLqBd58gpIGTnZ2NAQMG4P79+5gwYQJCQkKQlZWFb775Bg8ePIBEIsHgwYORl5eH6OhoeHh44ODBg4iJiUF+fj5iYmJMfu/JkydDLBbj3Xffxe3bt7F161bY2dkhLi4OQEXCnDlzJlq2bIl33nkHQMUdTghpTDAREtLAWbRoEe7evYujR4+iZ8+eqvZ58+ZBqVRiwYIFuHPnDr7++mv07dsXADBp0iQMGTIES5cuxfjx49GqVSuT3jswMBBbt25VPVYqlfjss8+wZs0atGrVCs8//zzef/99tG7dGpGRkbUbKCEWglujhDRgFAoFjh49ioEDB6olwUoEAgG+//57hIeHq5IgUHHD6ZiYGBQXF+PMmTMmv//kyZPVHvfq1QtyuVx1x3tCmgJMhIQ0YO7fv4/CwkK1e8hVJy0tDYGBgRrtQUFBqudNpfLO9pVU3oMuLy/PZCchDQ0mQkIaMEplxdVNlTfVNeW1lehyyOVynQ4bGxuD3IQ0ZpgICWnAtG7dGi1btsRff/2lM8bb2xs3btzQaL9586bqeeDRaq6goEAtrjYrRsC0JE1IQ4KJkJAGjFAoxNChQ/HDDz/g4sWLGs8rlUo8++yzSEpKwk8//aRql0ql2LJlC5ycnNC7d28AFQnRxsZG4/KJqodhTMHJyQn5+fm1chBiSXhqlJAGTmxsLE6fPo0RI0Zg4sSJ6NixI3JycnDkyBHs2rULM2bMwMGDBzFu3Di89tprEIvF+Oqrr3D58mV88MEHqhOjLVu2xOjRoxEXFweBQICAgAAkJiYiJSWlVv17/PHHsW3bNqxYsQL+/v5o3rw5hgwZYoaRE1I/MBES0sDx8PDAiRMnsGzZMhw8eBAFBQXw8PBA//794ebmBmdnZ3z//fd4//338cUXX6CkpAT+/v7YvHkzxo0bp+b68MMPIZPJsGvXLgiFQgwaNAj79++Hv7+/yf2bO3cuMjMzsWnTJhQWFqJ9+/ZMhKRRwVqjhBBCrBp+R0gIIcSqYSIkhBBi1TAREkIIsWqYCAkhhFg1TISEEEKsGiZCQgghVg0TISGEEKuGiZAQQohVw0RICCHEqmEiJIQQYtX8f4N4JvqetQHBAAAAAElFTkSuQmCC\n",
      "text/plain": [
       "<Figure size 432x288 with 1 Axes>"
      ]
     },
     "metadata": {},
     "output_type": "display_data"
    }
   ],
   "source": [
    "# determine the Payment channel for each branch.\n",
    "sns.countplot(y = 'Payment', data = df, hue = 'Branch', order = df.Payment.value_counts().index[::-1],\n",
    "              hue_order = df.Branch.value_counts().index[::-1],\n",
    "              palette = 'ocean',  lw = 2, ec = 'silver', hatch = '/*')"
   ]
  },
  {
   "cell_type": "code",
   "execution_count": 63,
   "metadata": {},
   "outputs": [
    {
     "name": "stdout",
     "output_type": "stream",
     "text": [
      "The Card payment is most used in Abuja Branch.\n",
      "The Epay payment is most used in Lagos Branch.\n",
      "The Cash payment is most used in Port Harcourt Branch.\n"
     ]
    }
   ],
   "source": [
    "print('The Card payment is most used in Abuja Branch.\\n\\\n",
    "The Epay payment is most used in Lagos Branch.\\n\\\n",
    "The Cash payment is most used in Port Harcourt Branch.')"
   ]
  },
  {
   "cell_type": "markdown",
   "metadata": {},
   "source": [
    "#### To-Do- Determine the branch with the lowest rating. This you can determine using abox plot which gives a statistical summary of the plotted features, and you can pick out the branch with the lowest rating from the plot"
   ]
  },
  {
   "cell_type": "code",
   "execution_count": 64,
   "metadata": {
    "scrolled": false
   },
   "outputs": [
    {
     "data": {
      "text/plain": [
       "<AxesSubplot:xlabel='Branch', ylabel='Rating'>"
      ]
     },
     "execution_count": 64,
     "metadata": {},
     "output_type": "execute_result"
    },
    {
     "data": {
      "image/png": "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\n",
      "text/plain": [
       "<Figure size 432x288 with 1 Axes>"
      ]
     },
     "metadata": {},
     "output_type": "display_data"
    }
   ],
   "source": [
    "# determine the branch with the lowest rating\n",
    "sns.boxplot(x = 'Branch', y ='Rating', data = df, order = ['B', 'A', 'C'], color = 'skyblue', width = 0.5)"
   ]
  },
  {
   "cell_type": "code",
   "execution_count": 65,
   "metadata": {},
   "outputs": [
    {
     "name": "stdout",
     "output_type": "stream",
     "text": [
      "Following the boxplot above, branch 'B' has 50% of it's ratings below 7 while branches 'A' and 'C' have 50% of their ratings above 7. \n",
      "Hence branch 'B' has the lowest ratings.\n"
     ]
    }
   ],
   "source": [
    "print(f'Following the boxplot above, branch \\'B\\' has 50% of it\\'s ratings below 7 while branches \\'A\\' and \\'C\\' have 50%\\\n",
    " of their ratings above 7. \\nHence branch \\'B\\' has the lowest ratings.')"
   ]
  },
  {
   "cell_type": "markdown",
   "metadata": {},
   "source": [
    "#### To-Do - The gender type often affects the kind of products being purchased at the supermarket. \n",
    "* Using a catplot() generate visualization for the \"product line\" on x-axis, quantity on the y-axis, and hue as gender. \n",
    "<br/>\n",
    "\n",
    "#### Set the aspect parameter to 4, so can you can effectively space out each product line. \n",
    "\n",
    "\n",
    "\n",
    "* Plot the same chart, but `Total Column` as the y-axis\n",
    "\n",
    "* Write a summary of the insights you can pick from this chart."
   ]
  },
  {
   "cell_type": "code",
   "execution_count": 66,
   "metadata": {},
   "outputs": [
    {
     "data": {
      "text/plain": [
       "<seaborn.axisgrid.FacetGrid at 0x27135799760>"
      ]
     },
     "execution_count": 66,
     "metadata": {},
     "output_type": "execute_result"
    },
    {
     "data": {
      "image/png": "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\n",
      "text/plain": [
       "<Figure size 1541.15x360 with 1 Axes>"
      ]
     },
     "metadata": {},
     "output_type": "display_data"
    }
   ],
   "source": [
    "# determine gender type on Quantity against Product line\n",
    "sns.catplot(x = 'Product line', y ='Quantity', hue = 'Gender', data = df, kind ='box', aspect = 4, palette = 'hot_r')"
   ]
  },
  {
   "cell_type": "code",
   "execution_count": 67,
   "metadata": {},
   "outputs": [
    {
     "data": {
      "text/plain": [
       "<seaborn.axisgrid.FacetGrid at 0x27134637a30>"
      ]
     },
     "execution_count": 67,
     "metadata": {},
     "output_type": "execute_result"
    },
    {
     "data": {
      "image/png": "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\n",
      "text/plain": [
       "<Figure size 1541.15x360 with 1 Axes>"
      ]
     },
     "metadata": {},
     "output_type": "display_data"
    }
   ],
   "source": [
    "# determine gender type on Total against Product line\n",
    "sns.catplot(x = 'Product line', y ='Total', hue = 'Gender', data = df, kind ='box', aspect = 4, palette = 'hot_r')"
   ]
  },
  {
   "cell_type": "code",
   "execution_count": 68,
   "metadata": {},
   "outputs": [
    {
     "name": "stdout",
     "output_type": "stream",
     "text": [
      "FROM THE PLOTS ABOVE, THE FOLLOWING INSIGHT CAN BE REACHED.\n",
      "1. Food and beverages:\n",
      "\tThe top 50% of the females purchased more quantities of food and beverages when compared to the top 50% of the males.\n",
      "\tThe top 50% of the females spends over #110,000 on food and beverages while the top 50% of the males over #75,000.\n",
      "\tThe top 25% of the females spends approximately over #200,000 while the top 25% of the males over #150,000.\n",
      "Hence, this clearly states that the females have higher purchasing power (ie buys more quantities and spend more) on food and beverages when compared to the male.\n",
      "\n",
      "\n",
      "2. Fashion accessories:\n",
      "\tThe top 50% of the females purchased more quantities of fashion accessories when compared to the top 50% of males.\n",
      "\tThe top 50% of the females spends over #100,000 on fashion accessories while the top 50% of the males over #70,000.\n",
      "Hence, this clearly states that the females have higher purchasing power (ie buys more quantities and spend more) on fashion accessories when compared to the male.\n",
      "\n",
      "\n",
      "3. Electronic accessories:\n",
      "\tThe top 50% of the females purchased approximalely equal quantities of electronic accessories when compared to the top 50% of males.\n",
      "\tThe top 50% of the females spends over #90,000 on electronic accessories while the top 50% of the males over #80,000.\n",
      "Hence, this clearly states that both the females and males have approximately equal purchasing power (ie buys same quantities and spend same amount) on electronic accessories.\n",
      "\n",
      "\n",
      "4. Sport and travel:\n",
      "\tThe top 50% of the females potrays approximalely equal needs on sport and travel when compared to the top 50% of males.\n",
      "\tThe top 50% of the females spends over #85,000 on sport and travel while the top 50% of the males over #110,000.\n",
      "Hence, this clearly states that both the females and males have approximately equal purchasing power (mainly in quantity ) on sport and travel, however the males spends a little more.\n",
      "\n",
      "\n",
      "5. Home and lifestyle:\n",
      "\tThe top 50% of the females potrays more needs on home and lifestyle when compared to the top 50% of males.\n",
      "\tThe top 50% of the females spends over #120,000 on home and lifestyle while the top 50% of the males over #80,000.\n",
      "Hence, this clearly states that the females have higher purchasing power (ie buys more quantities and spend more) on home and lifestyle when compared to the male.\n",
      "\n",
      "\n",
      "6. Health and beauty:\n",
      "\tThe top 50% of the females purchased less quantities of health and beauty products when compared to the top 50% of the males.\n",
      "\tThe top 50% of the females spends over #90,000 on health and beauty while the top 50% of the males over #100,000.\n",
      "\tThe top 25% of the females spends over #160,000 on health and beauty while the top 25% of the males over #190,000.\n",
      "Hence, this clearly states that the males have higher purchasing power (ie buys more quantities and spend more) on food and beverges when compared to the female.\n"
     ]
    }
   ],
   "source": [
    "print(\"FROM THE PLOTS ABOVE, THE FOLLOWING INSIGHT CAN BE REACHED.\\\n",
    "\\n1. Food and beverages:\\n\\\n",
    "\\tThe top 50% of the females purchased more quantities of food and beverages when compared to the top 50% of the males.\\n\\\n",
    "\\tThe top 50% of the females spends over #110,000 on food and beverages while the top 50% of the males over #75,000.\\n\\\n",
    "\\tThe top 25% of the females spends approximately over #200,000 while the top 25% of the males over #150,000.\\n\\\n",
    "Hence, this clearly states that the females have higher purchasing power (ie buys more quantities and spend more) on food and beverages when compared to the male.\\n\\n\\\n",
    "\\n2. Fashion accessories:\\n\\\n",
    "\\tThe top 50% of the females purchased more quantities of fashion accessories when compared to the top 50% of males.\\n\\\n",
    "\\tThe top 50% of the females spends over #100,000 on fashion accessories while the top 50% of the males over #70,000.\\n\\\n",
    "Hence, this clearly states that the females have higher purchasing power (ie buys more quantities and spend more) on fashion accessories when compared to the male.\\n\\n\\\n",
    "\\n3. Electronic accessories:\\n\\\n",
    "\\tThe top 50% of the females purchased approximalely equal quantities of electronic accessories when compared to the top 50% of males.\\n\\\n",
    "\\tThe top 50% of the females spends over #90,000 on electronic accessories while the top 50% of the males over #80,000.\\n\\\n",
    "Hence, this clearly states that both the females and males have approximately equal purchasing power (ie buys same quantities and spend same amount) on electronic accessories.\\n\\n\\\n",
    "\\n4. Sport and travel:\\n\\\n",
    "\\tThe top 50% of the females potrays approximalely equal needs on sport and travel when compared to the top 50% of males.\\n\\\n",
    "\\tThe top 50% of the females spends over #85,000 on sport and travel while the top 50% of the males over #110,000.\\n\\\n",
    "Hence, this clearly states that both the females and males have approximately equal purchasing power (mainly in quantity ) on sport and travel, however the males spends a little more.\\n\\n\\\n",
    "\\n5. Home and lifestyle:\\n\\\n",
    "\\tThe top 50% of the females potrays more needs on home and lifestyle when compared to the top 50% of males.\\n\\\n",
    "\\tThe top 50% of the females spends over #120,000 on home and lifestyle while the top 50% of the males over #80,000.\\n\\\n",
    "Hence, this clearly states that the females have higher purchasing power (ie buys more quantities and spend more) on home and lifestyle when compared to the male.\\n\\n\\\n",
    "\\n6. Health and beauty:\\n\\\n",
    "\\tThe top 50% of the females purchased less quantities of health and beauty products when compared to the top 50% of the males.\\n\\\n",
    "\\tThe top 50% of the females spends over #90,000 on health and beauty while the top 50% of the males over #100,000.\\n\\\n",
    "\\tThe top 25% of the females spends over #160,000 on health and beauty while the top 25% of the males over #190,000.\\n\\\n",
    "Hence, this clearly states that the males have higher purchasing power (ie buys more quantities and spend more) on food and beverges when compared to the female.\"\n",
    "    )"
   ]
  },
  {
   "cell_type": "markdown",
   "metadata": {},
   "source": [
    "#### To-Do -  An interesting insight to explore is the interaction of Unit price on the Quantity of goods purchased. To achieve this: \n",
    "* Use the `catplot()` to plot `Product line per unit price`, and `Product line per Quantity`. Set the kind parameter to `point` \n",
    "* In a new cell, Write a summary of the insights you uncovered"
   ]
  },
  {
   "cell_type": "code",
   "execution_count": 69,
   "metadata": {
    "scrolled": false
   },
   "outputs": [
    {
     "data": {
      "text/plain": [
       "<seaborn.axisgrid.FacetGrid at 0x27135b0f0a0>"
      ]
     },
     "execution_count": 69,
     "metadata": {},
     "output_type": "execute_result"
    },
    {
     "data": {
      "image/png": "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\n",
      "text/plain": [
       "<Figure size 1440x360 with 1 Axes>"
      ]
     },
     "metadata": {},
     "output_type": "display_data"
    }
   ],
   "source": [
    "# determine interaction of Unit price on the Product line purchased\n",
    "sns.catplot(y = 'Unit price', x ='Product line', data = df, kind ='point', aspect = 4, palette = 'hot_r',\n",
    "            order = ['Electronic accessories', 'Health and beauty', 'Home and lifestyle',\n",
    "                     'Food and beverages', 'Sports and travel', 'Fashion accessories'])"
   ]
  },
  {
   "cell_type": "code",
   "execution_count": 70,
   "metadata": {},
   "outputs": [
    {
     "data": {
      "text/plain": [
       "<seaborn.axisgrid.FacetGrid at 0x27135ae7cd0>"
      ]
     },
     "execution_count": 70,
     "metadata": {},
     "output_type": "execute_result"
    },
    {
     "data": {
      "image/png": "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\n",
      "text/plain": [
       "<Figure size 1440x360 with 1 Axes>"
      ]
     },
     "metadata": {},
     "output_type": "display_data"
    }
   ],
   "source": [
    "# determine interaction of the Quantity of goods purchased on the product line\n",
    "sns.catplot(y = 'Quantity', x ='Product line', data = df, kind ='point', aspect = 4, palette = 'hot_r',\n",
    "            order = ['Fashion accessories', 'Food and beverages', 'Sports and travel',\n",
    "                     'Health and beauty', 'Home and lifestyle', 'Electronic accessories'][::-1])"
   ]
  },
  {
   "cell_type": "code",
   "execution_count": 71,
   "metadata": {
    "scrolled": true
   },
   "outputs": [
    {
     "name": "stdout",
     "output_type": "stream",
     "text": [
      "From both catplot above, the following insights can be established\n",
      "\tThe mean of the Unit price for each product line increased in the following order:\n",
      "\tElectronic accessories->Health and beauty->Home and lifestyle->Food and beverages->Sports and travel->Fashion accessories\n",
      "\tThe mean of the product's quantity for each product line increased in the following order:\n",
      "\tFashion accessories->Food and beverages->Sports and travel->Health and beauty->Home and lifestyle->Electronic accessories\n",
      "Hence, Electronic accessories product line has the lowest mean price of product but the highest mean of product quantity purchase by customers. Also the Fashion accessories product line has the highest mean price of product but the lowest mean of product quantity purchased by customers\n"
     ]
    }
   ],
   "source": [
    "print(\n",
    "'From both catplot above, the following insights can be established\\n\\\n",
    "\\tThe mean of the Unit price for each product line increased in the following order:\\n\\\n",
    "\\tElectronic accessories->Health and beauty->Home and lifestyle->Food and beverages->Sports and travel->Fashion accessories\\n\\\n",
    "\\tThe mean of the product\\'s quantity for each product line increased in the following order:\\n\\\n",
    "\\tFashion accessories->Food and beverages->Sports and travel->Health and beauty->Home and lifestyle->Electronic accessories\\n\\\n",
    "Hence, Electronic accessories product line has the lowest mean price of product but the highest mean of product quantity purchase by customers.\\\n",
    " Also the Fashion accessories product line has the highest mean price of product but the lowest mean of product quantity purchased by customers'\n",
    ")"
   ]
  },
  {
   "cell_type": "markdown",
   "metadata": {},
   "source": [
    "## Step 7 - StandOut Section\n",
    "To make your submission standout, \n",
    "* You can continue to explore more insights that can be uncovered with different plotting methods.\n",
    "* Write a detailed summary on your approach, methods and insights. \n",
    "* Visit the [link](https://seaborn.pydata.org/tutorial/categorical.html) for more Seaborn visualization plots.\n"
   ]
  },
  {
   "cell_type": "code",
   "execution_count": 73,
   "metadata": {},
   "outputs": [
    {
     "data": {
      "image/png": "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\n",
      "text/plain": [
       "<Figure size 720x720 with 2 Axes>"
      ]
     },
     "metadata": {},
     "output_type": "display_data"
    }
   ],
   "source": [
    "# Unit price, Quantity, Total\n",
    "df_num = df[['Unit price', 'Quantity', 'Total']]\n",
    "# using pearson correlation\n",
    "plt.figure(figsize = (10, 10))\n",
    "cor = df_num.corr()\n",
    "# plotting a heatmap to create visualization\n",
    "sns.heatmap(cor, annot = True, cmap = plt.cm.CMRmap_r)\n",
    "plt.show()"
   ]
  },
  {
   "cell_type": "code",
   "execution_count": 74,
   "metadata": {
    "scrolled": true
   },
   "outputs": [
    {
     "data": {
      "text/plain": [
       "'The heatmap above futher indicates that there exist a positive correlation between the total amount and the quantity purchased, likewise between the total amount and unit price'"
      ]
     },
     "execution_count": 74,
     "metadata": {},
     "output_type": "execute_result"
    }
   ],
   "source": [
    "f'The heatmap above futher indicates that there exist a positive correlation between the total amount and the quantity purchased, likewise between the total amount and unit price'"
   ]
  },
  {
   "cell_type": "markdown",
   "metadata": {},
   "source": [
    "## Step 8 - Documentation.\n",
    "\n",
    "* Write a detailed `ReadMe` that describes the project, explains important approach you followed to solve the tasks. Find a template in the starter file that can get you started quickly. Note: Do limit yourself to the template, you can include any interesting step that is worth sharing. \n",
    "* Write an Executive summary that you can present to `Company XYZ` management. The summary will explain your processes and insights you uncovered that can help the company "
   ]
  }
 ],
 "metadata": {
  "kernelspec": {
   "display_name": "Python 3 (ipykernel)",
   "language": "python",
   "name": "python3"
  },
  "language_info": {
   "codemirror_mode": {
    "name": "ipython",
    "version": 3
   },
   "file_extension": ".py",
   "mimetype": "text/x-python",
   "name": "python",
   "nbconvert_exporter": "python",
   "pygments_lexer": "ipython3",
   "version": "3.9.7"
  }
 },
 "nbformat": 4,
 "nbformat_minor": 4
}
