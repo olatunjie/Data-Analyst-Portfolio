{
 "cells": [
  {
   "cell_type": "markdown",
   "id": "2b1795d7",
   "metadata": {},
   "source": [
    "# Stock Prediction using Logistic Regression"
   ]
  },
  {
   "cell_type": "code",
   "execution_count": 1,
   "id": "3a13db94",
   "metadata": {},
   "outputs": [],
   "source": [
    "# Importing Libraries\n",
    "import pandas as pd"
   ]
  },
  {
   "cell_type": "code",
   "execution_count": 2,
   "id": "c42e8e5b",
   "metadata": {},
   "outputs": [],
   "source": [
    "import numpy as np"
   ]
  },
  {
   "cell_type": "code",
   "execution_count": 3,
   "id": "6f2d51e7",
   "metadata": {},
   "outputs": [],
   "source": [
    "# Load Dataset from Local directory\n",
    "dataset = pd.read_csv('C:\\\\Users\\\\oewebiyi\\\\source\\\\Prantech Training\\\\Day 14\\\\Stock Price Prediction using Support Vector Regression\\\\Stock Prediction\\\\resources\\\\data.csv')"
   ]
  },
  {
   "cell_type": "code",
   "execution_count": 4,
   "id": "a0fc2640",
   "metadata": {},
   "outputs": [
    {
     "data": {
      "text/plain": [
       "(94, 2)"
      ]
     },
     "execution_count": 4,
     "metadata": {},
     "output_type": "execute_result"
    }
   ],
   "source": [
    "# Summarize DataSet\n",
    "dataset.shape"
   ]
  },
  {
   "cell_type": "code",
   "execution_count": 6,
   "id": "6c6aba80",
   "metadata": {},
   "outputs": [
    {
     "data": {
      "text/html": [
       "<div>\n",
       "<style scoped>\n",
       "    .dataframe tbody tr th:only-of-type {\n",
       "        vertical-align: middle;\n",
       "    }\n",
       "\n",
       "    .dataframe tbody tr th {\n",
       "        vertical-align: top;\n",
       "    }\n",
       "\n",
       "    .dataframe thead th {\n",
       "        text-align: right;\n",
       "    }\n",
       "</style>\n",
       "<table border=\"1\" class=\"dataframe\">\n",
       "  <thead>\n",
       "    <tr style=\"text-align: right;\">\n",
       "      <th></th>\n",
       "      <th>x</th>\n",
       "      <th>y</th>\n",
       "    </tr>\n",
       "  </thead>\n",
       "  <tbody>\n",
       "    <tr>\n",
       "      <th>0</th>\n",
       "      <td>168.181818</td>\n",
       "      <td>160.840244</td>\n",
       "    </tr>\n",
       "    <tr>\n",
       "      <th>1</th>\n",
       "      <td>187.878788</td>\n",
       "      <td>159.413657</td>\n",
       "    </tr>\n",
       "    <tr>\n",
       "      <th>2</th>\n",
       "      <td>207.575758</td>\n",
       "      <td>157.136809</td>\n",
       "    </tr>\n",
       "    <tr>\n",
       "      <th>3</th>\n",
       "      <td>227.272727</td>\n",
       "      <td>159.357847</td>\n",
       "    </tr>\n",
       "    <tr>\n",
       "      <th>4</th>\n",
       "      <td>246.969697</td>\n",
       "      <td>157.542862</td>\n",
       "    </tr>\n",
       "  </tbody>\n",
       "</table>\n",
       "</div>"
      ],
      "text/plain": [
       "            x           y\n",
       "0  168.181818  160.840244\n",
       "1  187.878788  159.413657\n",
       "2  207.575758  157.136809\n",
       "3  227.272727  159.357847\n",
       "4  246.969697  157.542862"
      ]
     },
     "execution_count": 6,
     "metadata": {},
     "output_type": "execute_result"
    }
   ],
   "source": [
    "dataset.head(5)"
   ]
  },
  {
   "cell_type": "code",
   "execution_count": 10,
   "id": "3a3ab46a",
   "metadata": {},
   "outputs": [],
   "source": [
    "# Segregate DataSet into Input(X) and Output(Y) \n",
    "X = dataset.iloc[:, :-1].values\n",
    "Y = dataset.iloc[:, -1].values"
   ]
  },
  {
   "cell_type": "code",
   "execution_count": 9,
   "id": "e31adea5",
   "metadata": {},
   "outputs": [],
   "source": [
    "#Split DataSet for Testing our Model"
   ]
  },
  {
   "cell_type": "code",
   "execution_count": 11,
   "id": "709ef047",
   "metadata": {},
   "outputs": [],
   "source": [
    "from sklearn.model_selection import train_test_split\n",
    "x_train,x_test,y_train,y_test = train_test_split(X,Y,test_size=0.20,random_state=0)"
   ]
  },
  {
   "cell_type": "code",
   "execution_count": 13,
   "id": "55f5c5d7",
   "metadata": {},
   "outputs": [
    {
     "data": {
      "text/plain": [
       "SVR()"
      ]
     },
     "execution_count": 13,
     "metadata": {},
     "output_type": "execute_result"
    }
   ],
   "source": [
    "# Training DataSet using support vector Regression\n",
    "from sklearn.svm import SVR\n",
    "model = SVR()\n",
    "model.fit(x_train,y_train)"
   ]
  },
  {
   "cell_type": "code",
   "execution_count": 14,
   "id": "95ec9863",
   "metadata": {},
   "outputs": [],
   "source": [
    "# *Prediction for all test data for validation*\n",
    "# *SSres is the sum of squares of the residual errors.*\n",
    "# *SStot is the total sum of the errors.*\n",
    "ypred = model.predict(x_test)"
   ]
  },
  {
   "cell_type": "code",
   "execution_count": 15,
   "id": "13a68dcf",
   "metadata": {
    "scrolled": true
   },
   "outputs": [
    {
     "data": {
      "text/plain": [
       "array([160.38066457, 163.04592046, 168.77022387, 160.40674878,\n",
       "       160.12382053, 169.82676234, 170.04067786, 173.32633293,\n",
       "       163.74259335, 173.18800749, 172.87688151, 160.00663384,\n",
       "       167.72814792, 173.87412225, 173.60961597, 169.61365807,\n",
       "       159.98265745, 161.33699978, 172.33989026])"
      ]
     },
     "execution_count": 15,
     "metadata": {},
     "output_type": "execute_result"
    }
   ],
   "source": [
    "ypred"
   ]
  },
  {
   "cell_type": "code",
   "execution_count": 16,
   "id": "7b56d16d",
   "metadata": {},
   "outputs": [
    {
     "name": "stdout",
     "output_type": "stream",
     "text": [
      "Root Mean Square Error: 2.3594718844452056\n",
      "R2Score 86.64242653738367\n"
     ]
    }
   ],
   "source": [
    "from sklearn.metrics import r2_score,mean_squared_error\n",
    "mse = mean_squared_error(y_test,ypred)\n",
    "rmse=np.sqrt(mse)\n",
    "print(\"Root Mean Square Error:\",rmse)\n",
    "r2score = r2_score(y_test,ypred)\n",
    "print(\"R2Score\",r2score*100)"
   ]
  },
  {
   "cell_type": "code",
   "execution_count": null,
   "id": "8aad1f3f",
   "metadata": {},
   "outputs": [],
   "source": []
  }
 ],
 "metadata": {
  "kernelspec": {
   "display_name": "Python 3",
   "language": "python",
   "name": "python3"
  },
  "language_info": {
   "codemirror_mode": {
    "name": "ipython",
    "version": 3
   },
   "file_extension": ".py",
   "mimetype": "text/x-python",
   "name": "python",
   "nbconvert_exporter": "python",
   "pygments_lexer": "ipython3",
   "version": "3.8.8"
  }
 },
 "nbformat": 4,
 "nbformat_minor": 5
}
